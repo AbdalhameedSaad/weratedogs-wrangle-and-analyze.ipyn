{
 "cells": [
  {
   "cell_type": "markdown",
   "metadata": {
    "papermill": {
     "duration": 0.060904,
     "end_time": "2021-03-23T10:40:20.925375",
     "exception": false,
     "start_time": "2021-03-23T10:40:20.864471",
     "status": "completed"
    },
    "tags": []
   },
   "source": [
    "# importing libraries"
   ]
  },
  {
   "cell_type": "code",
   "execution_count": 1,
   "metadata": {
    "execution": {
     "iopub.execute_input": "2021-03-23T10:40:21.055913Z",
     "iopub.status.busy": "2021-03-23T10:40:21.055048Z",
     "iopub.status.idle": "2021-03-23T10:40:21.057664Z",
     "shell.execute_reply": "2021-03-23T10:40:21.058169Z"
    },
    "papermill": {
     "duration": 0.073771,
     "end_time": "2021-03-23T10:40:21.058514",
     "exception": false,
     "start_time": "2021-03-23T10:40:20.984743",
     "status": "completed"
    },
    "tags": []
   },
   "outputs": [],
   "source": [
    "import pandas as pd\n",
    "import numpy as np\n",
    "import matplotlib.pyplot as plt\n",
    "import requests\n",
    "import json\n",
    "from IPython.display import Image"
   ]
  },
  {
   "cell_type": "markdown",
   "metadata": {
    "papermill": {
     "duration": 0.058978,
     "end_time": "2021-03-23T10:40:21.177278",
     "exception": false,
     "start_time": "2021-03-23T10:40:21.118300",
     "status": "completed"
    },
    "tags": []
   },
   "source": [
    "# Gatharing"
   ]
  },
  {
   "cell_type": "markdown",
   "metadata": {
    "papermill": {
     "duration": 0.059708,
     "end_time": "2021-03-23T10:40:21.298136",
     "exception": false,
     "start_time": "2021-03-23T10:40:21.238428",
     "status": "completed"
    },
    "tags": []
   },
   "source": [
    "#### twitter_a (data frame)"
   ]
  },
  {
   "cell_type": "code",
   "execution_count": 2,
   "metadata": {
    "execution": {
     "iopub.execute_input": "2021-03-23T10:40:21.422844Z",
     "iopub.status.busy": "2021-03-23T10:40:21.422172Z",
     "iopub.status.idle": "2021-03-23T10:40:21.476733Z",
     "shell.execute_reply": "2021-03-23T10:40:21.475981Z"
    },
    "papermill": {
     "duration": 0.118891,
     "end_time": "2021-03-23T10:40:21.476909",
     "exception": false,
     "start_time": "2021-03-23T10:40:21.358018",
     "status": "completed"
    },
    "tags": []
   },
   "outputs": [],
   "source": [
    "twitter_a=pd.read_csv('../input/weratedogsdataset/twitter-archive-enhanced-2.csv')"
   ]
  },
  {
   "cell_type": "markdown",
   "metadata": {
    "papermill": {
     "duration": 0.057929,
     "end_time": "2021-03-23T10:40:21.593630",
     "exception": false,
     "start_time": "2021-03-23T10:40:21.535701",
     "status": "completed"
    },
    "tags": []
   },
   "source": [
    "## --------------------------------------------"
   ]
  },
  {
   "cell_type": "markdown",
   "metadata": {
    "papermill": {
     "duration": 0.058511,
     "end_time": "2021-03-23T10:40:21.711995",
     "exception": false,
     "start_time": "2021-03-23T10:40:21.653484",
     "status": "completed"
    },
    "tags": []
   },
   "source": [
    "#### image_p (data frame)"
   ]
  },
  {
   "cell_type": "code",
   "execution_count": 3,
   "metadata": {
    "execution": {
     "iopub.execute_input": "2021-03-23T10:40:21.841776Z",
     "iopub.status.busy": "2021-03-23T10:40:21.841070Z",
     "iopub.status.idle": "2021-03-23T10:40:22.560619Z",
     "shell.execute_reply": "2021-03-23T10:40:22.559840Z"
    },
    "papermill": {
     "duration": 0.787355,
     "end_time": "2021-03-23T10:40:22.560825",
     "exception": false,
     "start_time": "2021-03-23T10:40:21.773470",
     "status": "completed"
    },
    "tags": []
   },
   "outputs": [],
   "source": [
    "url='https://d17h27t6h515a5.cloudfront.net/topher/2017/August/599fd2ad_image-predictions/image-predictions.tsv'\n",
    "response=requests.get(url)\n",
    "with open ('image-prediction.tsv',mode='wb')as file:\n",
    "    file.write(response.content)"
   ]
  },
  {
   "cell_type": "code",
   "execution_count": 4,
   "metadata": {
    "execution": {
     "iopub.execute_input": "2021-03-23T10:40:22.689570Z",
     "iopub.status.busy": "2021-03-23T10:40:22.688718Z",
     "iopub.status.idle": "2021-03-23T10:40:22.703426Z",
     "shell.execute_reply": "2021-03-23T10:40:22.702649Z"
    },
    "papermill": {
     "duration": 0.082444,
     "end_time": "2021-03-23T10:40:22.703592",
     "exception": false,
     "start_time": "2021-03-23T10:40:22.621148",
     "status": "completed"
    },
    "tags": []
   },
   "outputs": [],
   "source": [
    "image_p=pd.read_csv('image-prediction.tsv',sep='\\t')"
   ]
  },
  {
   "cell_type": "markdown",
   "metadata": {
    "papermill": {
     "duration": 0.061344,
     "end_time": "2021-03-23T10:40:22.825511",
     "exception": false,
     "start_time": "2021-03-23T10:40:22.764167",
     "status": "completed"
    },
    "tags": []
   },
   "source": [
    "## ----------------------------------------------------"
   ]
  },
  {
   "cell_type": "markdown",
   "metadata": {
    "papermill": {
     "duration": 0.059575,
     "end_time": "2021-03-23T10:40:22.944926",
     "exception": false,
     "start_time": "2021-03-23T10:40:22.885351",
     "status": "completed"
    },
    "tags": []
   },
   "source": [
    "#### tweet_data(data frame)"
   ]
  },
  {
   "cell_type": "code",
   "execution_count": 5,
   "metadata": {
    "execution": {
     "iopub.execute_input": "2021-03-23T10:40:23.093562Z",
     "iopub.status.busy": "2021-03-23T10:40:23.092558Z",
     "iopub.status.idle": "2021-03-23T10:40:23.560291Z",
     "shell.execute_reply": "2021-03-23T10:40:23.559676Z"
    },
    "papermill": {
     "duration": 0.547461,
     "end_time": "2021-03-23T10:40:23.560448",
     "exception": false,
     "start_time": "2021-03-23T10:40:23.012987",
     "status": "completed"
    },
    "tags": []
   },
   "outputs": [],
   "source": [
    "list_tweet=[]\n",
    "with open ('../input/weratedogsdataset/tweet-json')as file:\n",
    "    for line in file:\n",
    "        list_tweet.append(json.loads(line))"
   ]
  },
  {
   "cell_type": "code",
   "execution_count": 6,
   "metadata": {
    "execution": {
     "iopub.execute_input": "2021-03-23T10:40:23.697030Z",
     "iopub.status.busy": "2021-03-23T10:40:23.695946Z",
     "iopub.status.idle": "2021-03-23T10:40:23.699527Z",
     "shell.execute_reply": "2021-03-23T10:40:23.698802Z"
    },
    "papermill": {
     "duration": 0.078454,
     "end_time": "2021-03-23T10:40:23.699692",
     "exception": false,
     "start_time": "2021-03-23T10:40:23.621238",
     "status": "completed"
    },
    "tags": []
   },
   "outputs": [],
   "source": [
    "tweet_data=pd.DataFrame(list_tweet,columns=['id','retweet_count','favorite_count'])"
   ]
  },
  {
   "cell_type": "markdown",
   "metadata": {
    "papermill": {
     "duration": 0.062709,
     "end_time": "2021-03-23T10:40:23.825224",
     "exception": false,
     "start_time": "2021-03-23T10:40:23.762515",
     "status": "completed"
    },
    "tags": []
   },
   "source": [
    "# --------------------------------------------"
   ]
  },
  {
   "cell_type": "markdown",
   "metadata": {
    "papermill": {
     "duration": 0.060373,
     "end_time": "2021-03-23T10:40:23.948081",
     "exception": false,
     "start_time": "2021-03-23T10:40:23.887708",
     "status": "completed"
    },
    "tags": []
   },
   "source": [
    "# Assessing"
   ]
  },
  {
   "cell_type": "markdown",
   "metadata": {
    "papermill": {
     "duration": 0.061839,
     "end_time": "2021-03-23T10:40:24.072502",
     "exception": false,
     "start_time": "2021-03-23T10:40:24.010663",
     "status": "completed"
    },
    "tags": []
   },
   "source": [
    "#### twitter_a assessing"
   ]
  },
  {
   "cell_type": "code",
   "execution_count": 7,
   "metadata": {
    "execution": {
     "iopub.execute_input": "2021-03-23T10:40:24.204604Z",
     "iopub.status.busy": "2021-03-23T10:40:24.203924Z",
     "iopub.status.idle": "2021-03-23T10:40:24.235145Z",
     "shell.execute_reply": "2021-03-23T10:40:24.235634Z"
    },
    "papermill": {
     "duration": 0.10215,
     "end_time": "2021-03-23T10:40:24.235820",
     "exception": false,
     "start_time": "2021-03-23T10:40:24.133670",
     "status": "completed"
    },
    "tags": []
   },
   "outputs": [
    {
     "data": {
      "text/html": [
       "<div>\n",
       "<style scoped>\n",
       "    .dataframe tbody tr th:only-of-type {\n",
       "        vertical-align: middle;\n",
       "    }\n",
       "\n",
       "    .dataframe tbody tr th {\n",
       "        vertical-align: top;\n",
       "    }\n",
       "\n",
       "    .dataframe thead th {\n",
       "        text-align: right;\n",
       "    }\n",
       "</style>\n",
       "<table border=\"1\" class=\"dataframe\">\n",
       "  <thead>\n",
       "    <tr style=\"text-align: right;\">\n",
       "      <th></th>\n",
       "      <th>tweet_id</th>\n",
       "      <th>in_reply_to_status_id</th>\n",
       "      <th>in_reply_to_user_id</th>\n",
       "      <th>timestamp</th>\n",
       "      <th>source</th>\n",
       "      <th>text</th>\n",
       "      <th>retweeted_status_id</th>\n",
       "      <th>retweeted_status_user_id</th>\n",
       "      <th>retweeted_status_timestamp</th>\n",
       "      <th>expanded_urls</th>\n",
       "      <th>rating_numerator</th>\n",
       "      <th>rating_denominator</th>\n",
       "      <th>name</th>\n",
       "      <th>doggo</th>\n",
       "      <th>floofer</th>\n",
       "      <th>pupper</th>\n",
       "      <th>puppo</th>\n",
       "    </tr>\n",
       "  </thead>\n",
       "  <tbody>\n",
       "    <tr>\n",
       "      <th>0</th>\n",
       "      <td>892420643555336193</td>\n",
       "      <td>NaN</td>\n",
       "      <td>NaN</td>\n",
       "      <td>2017-08-01 16:23:56 +0000</td>\n",
       "      <td>&lt;a href=\"http://twitter.com/download/iphone\" r...</td>\n",
       "      <td>This is Phineas. He's a mystical boy. Only eve...</td>\n",
       "      <td>NaN</td>\n",
       "      <td>NaN</td>\n",
       "      <td>NaN</td>\n",
       "      <td>https://twitter.com/dog_rates/status/892420643...</td>\n",
       "      <td>13</td>\n",
       "      <td>10</td>\n",
       "      <td>Phineas</td>\n",
       "      <td>None</td>\n",
       "      <td>None</td>\n",
       "      <td>None</td>\n",
       "      <td>None</td>\n",
       "    </tr>\n",
       "    <tr>\n",
       "      <th>1</th>\n",
       "      <td>892177421306343426</td>\n",
       "      <td>NaN</td>\n",
       "      <td>NaN</td>\n",
       "      <td>2017-08-01 00:17:27 +0000</td>\n",
       "      <td>&lt;a href=\"http://twitter.com/download/iphone\" r...</td>\n",
       "      <td>This is Tilly. She's just checking pup on you....</td>\n",
       "      <td>NaN</td>\n",
       "      <td>NaN</td>\n",
       "      <td>NaN</td>\n",
       "      <td>https://twitter.com/dog_rates/status/892177421...</td>\n",
       "      <td>13</td>\n",
       "      <td>10</td>\n",
       "      <td>Tilly</td>\n",
       "      <td>None</td>\n",
       "      <td>None</td>\n",
       "      <td>None</td>\n",
       "      <td>None</td>\n",
       "    </tr>\n",
       "    <tr>\n",
       "      <th>2</th>\n",
       "      <td>891815181378084864</td>\n",
       "      <td>NaN</td>\n",
       "      <td>NaN</td>\n",
       "      <td>2017-07-31 00:18:03 +0000</td>\n",
       "      <td>&lt;a href=\"http://twitter.com/download/iphone\" r...</td>\n",
       "      <td>This is Archie. He is a rare Norwegian Pouncin...</td>\n",
       "      <td>NaN</td>\n",
       "      <td>NaN</td>\n",
       "      <td>NaN</td>\n",
       "      <td>https://twitter.com/dog_rates/status/891815181...</td>\n",
       "      <td>12</td>\n",
       "      <td>10</td>\n",
       "      <td>Archie</td>\n",
       "      <td>None</td>\n",
       "      <td>None</td>\n",
       "      <td>None</td>\n",
       "      <td>None</td>\n",
       "    </tr>\n",
       "    <tr>\n",
       "      <th>3</th>\n",
       "      <td>891689557279858688</td>\n",
       "      <td>NaN</td>\n",
       "      <td>NaN</td>\n",
       "      <td>2017-07-30 15:58:51 +0000</td>\n",
       "      <td>&lt;a href=\"http://twitter.com/download/iphone\" r...</td>\n",
       "      <td>This is Darla. She commenced a snooze mid meal...</td>\n",
       "      <td>NaN</td>\n",
       "      <td>NaN</td>\n",
       "      <td>NaN</td>\n",
       "      <td>https://twitter.com/dog_rates/status/891689557...</td>\n",
       "      <td>13</td>\n",
       "      <td>10</td>\n",
       "      <td>Darla</td>\n",
       "      <td>None</td>\n",
       "      <td>None</td>\n",
       "      <td>None</td>\n",
       "      <td>None</td>\n",
       "    </tr>\n",
       "    <tr>\n",
       "      <th>4</th>\n",
       "      <td>891327558926688256</td>\n",
       "      <td>NaN</td>\n",
       "      <td>NaN</td>\n",
       "      <td>2017-07-29 16:00:24 +0000</td>\n",
       "      <td>&lt;a href=\"http://twitter.com/download/iphone\" r...</td>\n",
       "      <td>This is Franklin. He would like you to stop ca...</td>\n",
       "      <td>NaN</td>\n",
       "      <td>NaN</td>\n",
       "      <td>NaN</td>\n",
       "      <td>https://twitter.com/dog_rates/status/891327558...</td>\n",
       "      <td>12</td>\n",
       "      <td>10</td>\n",
       "      <td>Franklin</td>\n",
       "      <td>None</td>\n",
       "      <td>None</td>\n",
       "      <td>None</td>\n",
       "      <td>None</td>\n",
       "    </tr>\n",
       "  </tbody>\n",
       "</table>\n",
       "</div>"
      ],
      "text/plain": [
       "             tweet_id  in_reply_to_status_id  in_reply_to_user_id  \\\n",
       "0  892420643555336193                    NaN                  NaN   \n",
       "1  892177421306343426                    NaN                  NaN   \n",
       "2  891815181378084864                    NaN                  NaN   \n",
       "3  891689557279858688                    NaN                  NaN   \n",
       "4  891327558926688256                    NaN                  NaN   \n",
       "\n",
       "                   timestamp  \\\n",
       "0  2017-08-01 16:23:56 +0000   \n",
       "1  2017-08-01 00:17:27 +0000   \n",
       "2  2017-07-31 00:18:03 +0000   \n",
       "3  2017-07-30 15:58:51 +0000   \n",
       "4  2017-07-29 16:00:24 +0000   \n",
       "\n",
       "                                              source  \\\n",
       "0  <a href=\"http://twitter.com/download/iphone\" r...   \n",
       "1  <a href=\"http://twitter.com/download/iphone\" r...   \n",
       "2  <a href=\"http://twitter.com/download/iphone\" r...   \n",
       "3  <a href=\"http://twitter.com/download/iphone\" r...   \n",
       "4  <a href=\"http://twitter.com/download/iphone\" r...   \n",
       "\n",
       "                                                text  retweeted_status_id  \\\n",
       "0  This is Phineas. He's a mystical boy. Only eve...                  NaN   \n",
       "1  This is Tilly. She's just checking pup on you....                  NaN   \n",
       "2  This is Archie. He is a rare Norwegian Pouncin...                  NaN   \n",
       "3  This is Darla. She commenced a snooze mid meal...                  NaN   \n",
       "4  This is Franklin. He would like you to stop ca...                  NaN   \n",
       "\n",
       "   retweeted_status_user_id retweeted_status_timestamp  \\\n",
       "0                       NaN                        NaN   \n",
       "1                       NaN                        NaN   \n",
       "2                       NaN                        NaN   \n",
       "3                       NaN                        NaN   \n",
       "4                       NaN                        NaN   \n",
       "\n",
       "                                       expanded_urls  rating_numerator  \\\n",
       "0  https://twitter.com/dog_rates/status/892420643...                13   \n",
       "1  https://twitter.com/dog_rates/status/892177421...                13   \n",
       "2  https://twitter.com/dog_rates/status/891815181...                12   \n",
       "3  https://twitter.com/dog_rates/status/891689557...                13   \n",
       "4  https://twitter.com/dog_rates/status/891327558...                12   \n",
       "\n",
       "   rating_denominator      name doggo floofer pupper puppo  \n",
       "0                  10   Phineas  None    None   None  None  \n",
       "1                  10     Tilly  None    None   None  None  \n",
       "2                  10    Archie  None    None   None  None  \n",
       "3                  10     Darla  None    None   None  None  \n",
       "4                  10  Franklin  None    None   None  None  "
      ]
     },
     "execution_count": 7,
     "metadata": {},
     "output_type": "execute_result"
    }
   ],
   "source": [
    "twitter_a.head()"
   ]
  },
  {
   "cell_type": "code",
   "execution_count": 8,
   "metadata": {
    "execution": {
     "iopub.execute_input": "2021-03-23T10:40:24.360528Z",
     "iopub.status.busy": "2021-03-23T10:40:24.359753Z",
     "iopub.status.idle": "2021-03-23T10:40:24.381603Z",
     "shell.execute_reply": "2021-03-23T10:40:24.382151Z"
    },
    "papermill": {
     "duration": 0.086791,
     "end_time": "2021-03-23T10:40:24.382418",
     "exception": false,
     "start_time": "2021-03-23T10:40:24.295627",
     "status": "completed"
    },
    "tags": []
   },
   "outputs": [
    {
     "name": "stdout",
     "output_type": "stream",
     "text": [
      "<class 'pandas.core.frame.DataFrame'>\n",
      "RangeIndex: 2356 entries, 0 to 2355\n",
      "Data columns (total 17 columns):\n",
      " #   Column                      Non-Null Count  Dtype  \n",
      "---  ------                      --------------  -----  \n",
      " 0   tweet_id                    2356 non-null   int64  \n",
      " 1   in_reply_to_status_id       78 non-null     float64\n",
      " 2   in_reply_to_user_id         78 non-null     float64\n",
      " 3   timestamp                   2356 non-null   object \n",
      " 4   source                      2356 non-null   object \n",
      " 5   text                        2356 non-null   object \n",
      " 6   retweeted_status_id         181 non-null    float64\n",
      " 7   retweeted_status_user_id    181 non-null    float64\n",
      " 8   retweeted_status_timestamp  181 non-null    object \n",
      " 9   expanded_urls               2297 non-null   object \n",
      " 10  rating_numerator            2356 non-null   int64  \n",
      " 11  rating_denominator          2356 non-null   int64  \n",
      " 12  name                        2356 non-null   object \n",
      " 13  doggo                       2356 non-null   object \n",
      " 14  floofer                     2356 non-null   object \n",
      " 15  pupper                      2356 non-null   object \n",
      " 16  puppo                       2356 non-null   object \n",
      "dtypes: float64(4), int64(3), object(10)\n",
      "memory usage: 313.0+ KB\n"
     ]
    }
   ],
   "source": [
    "twitter_a.info()"
   ]
  },
  {
   "cell_type": "code",
   "execution_count": 9,
   "metadata": {
    "execution": {
     "iopub.execute_input": "2021-03-23T10:40:24.507910Z",
     "iopub.status.busy": "2021-03-23T10:40:24.507227Z",
     "iopub.status.idle": "2021-03-23T10:40:24.545093Z",
     "shell.execute_reply": "2021-03-23T10:40:24.544528Z"
    },
    "papermill": {
     "duration": 0.10162,
     "end_time": "2021-03-23T10:40:24.545261",
     "exception": false,
     "start_time": "2021-03-23T10:40:24.443641",
     "status": "completed"
    },
    "tags": []
   },
   "outputs": [
    {
     "data": {
      "text/html": [
       "<div>\n",
       "<style scoped>\n",
       "    .dataframe tbody tr th:only-of-type {\n",
       "        vertical-align: middle;\n",
       "    }\n",
       "\n",
       "    .dataframe tbody tr th {\n",
       "        vertical-align: top;\n",
       "    }\n",
       "\n",
       "    .dataframe thead th {\n",
       "        text-align: right;\n",
       "    }\n",
       "</style>\n",
       "<table border=\"1\" class=\"dataframe\">\n",
       "  <thead>\n",
       "    <tr style=\"text-align: right;\">\n",
       "      <th></th>\n",
       "      <th>tweet_id</th>\n",
       "      <th>in_reply_to_status_id</th>\n",
       "      <th>in_reply_to_user_id</th>\n",
       "      <th>retweeted_status_id</th>\n",
       "      <th>retweeted_status_user_id</th>\n",
       "      <th>rating_numerator</th>\n",
       "      <th>rating_denominator</th>\n",
       "    </tr>\n",
       "  </thead>\n",
       "  <tbody>\n",
       "    <tr>\n",
       "      <th>count</th>\n",
       "      <td>2.356000e+03</td>\n",
       "      <td>7.800000e+01</td>\n",
       "      <td>7.800000e+01</td>\n",
       "      <td>1.810000e+02</td>\n",
       "      <td>1.810000e+02</td>\n",
       "      <td>2356.000000</td>\n",
       "      <td>2356.000000</td>\n",
       "    </tr>\n",
       "    <tr>\n",
       "      <th>mean</th>\n",
       "      <td>7.427716e+17</td>\n",
       "      <td>7.455079e+17</td>\n",
       "      <td>2.014171e+16</td>\n",
       "      <td>7.720400e+17</td>\n",
       "      <td>1.241698e+16</td>\n",
       "      <td>13.126486</td>\n",
       "      <td>10.455433</td>\n",
       "    </tr>\n",
       "    <tr>\n",
       "      <th>std</th>\n",
       "      <td>6.856705e+16</td>\n",
       "      <td>7.582492e+16</td>\n",
       "      <td>1.252797e+17</td>\n",
       "      <td>6.236928e+16</td>\n",
       "      <td>9.599254e+16</td>\n",
       "      <td>45.876648</td>\n",
       "      <td>6.745237</td>\n",
       "    </tr>\n",
       "    <tr>\n",
       "      <th>min</th>\n",
       "      <td>6.660209e+17</td>\n",
       "      <td>6.658147e+17</td>\n",
       "      <td>1.185634e+07</td>\n",
       "      <td>6.661041e+17</td>\n",
       "      <td>7.832140e+05</td>\n",
       "      <td>0.000000</td>\n",
       "      <td>0.000000</td>\n",
       "    </tr>\n",
       "    <tr>\n",
       "      <th>25%</th>\n",
       "      <td>6.783989e+17</td>\n",
       "      <td>6.757419e+17</td>\n",
       "      <td>3.086374e+08</td>\n",
       "      <td>7.186315e+17</td>\n",
       "      <td>4.196984e+09</td>\n",
       "      <td>10.000000</td>\n",
       "      <td>10.000000</td>\n",
       "    </tr>\n",
       "    <tr>\n",
       "      <th>50%</th>\n",
       "      <td>7.196279e+17</td>\n",
       "      <td>7.038708e+17</td>\n",
       "      <td>4.196984e+09</td>\n",
       "      <td>7.804657e+17</td>\n",
       "      <td>4.196984e+09</td>\n",
       "      <td>11.000000</td>\n",
       "      <td>10.000000</td>\n",
       "    </tr>\n",
       "    <tr>\n",
       "      <th>75%</th>\n",
       "      <td>7.993373e+17</td>\n",
       "      <td>8.257804e+17</td>\n",
       "      <td>4.196984e+09</td>\n",
       "      <td>8.203146e+17</td>\n",
       "      <td>4.196984e+09</td>\n",
       "      <td>12.000000</td>\n",
       "      <td>10.000000</td>\n",
       "    </tr>\n",
       "    <tr>\n",
       "      <th>max</th>\n",
       "      <td>8.924206e+17</td>\n",
       "      <td>8.862664e+17</td>\n",
       "      <td>8.405479e+17</td>\n",
       "      <td>8.874740e+17</td>\n",
       "      <td>7.874618e+17</td>\n",
       "      <td>1776.000000</td>\n",
       "      <td>170.000000</td>\n",
       "    </tr>\n",
       "  </tbody>\n",
       "</table>\n",
       "</div>"
      ],
      "text/plain": [
       "           tweet_id  in_reply_to_status_id  in_reply_to_user_id  \\\n",
       "count  2.356000e+03           7.800000e+01         7.800000e+01   \n",
       "mean   7.427716e+17           7.455079e+17         2.014171e+16   \n",
       "std    6.856705e+16           7.582492e+16         1.252797e+17   \n",
       "min    6.660209e+17           6.658147e+17         1.185634e+07   \n",
       "25%    6.783989e+17           6.757419e+17         3.086374e+08   \n",
       "50%    7.196279e+17           7.038708e+17         4.196984e+09   \n",
       "75%    7.993373e+17           8.257804e+17         4.196984e+09   \n",
       "max    8.924206e+17           8.862664e+17         8.405479e+17   \n",
       "\n",
       "       retweeted_status_id  retweeted_status_user_id  rating_numerator  \\\n",
       "count         1.810000e+02              1.810000e+02       2356.000000   \n",
       "mean          7.720400e+17              1.241698e+16         13.126486   \n",
       "std           6.236928e+16              9.599254e+16         45.876648   \n",
       "min           6.661041e+17              7.832140e+05          0.000000   \n",
       "25%           7.186315e+17              4.196984e+09         10.000000   \n",
       "50%           7.804657e+17              4.196984e+09         11.000000   \n",
       "75%           8.203146e+17              4.196984e+09         12.000000   \n",
       "max           8.874740e+17              7.874618e+17       1776.000000   \n",
       "\n",
       "       rating_denominator  \n",
       "count         2356.000000  \n",
       "mean            10.455433  \n",
       "std              6.745237  \n",
       "min              0.000000  \n",
       "25%             10.000000  \n",
       "50%             10.000000  \n",
       "75%             10.000000  \n",
       "max            170.000000  "
      ]
     },
     "execution_count": 9,
     "metadata": {},
     "output_type": "execute_result"
    }
   ],
   "source": [
    "twitter_a.describe()"
   ]
  },
  {
   "cell_type": "code",
   "execution_count": 10,
   "metadata": {
    "execution": {
     "iopub.execute_input": "2021-03-23T10:40:24.676239Z",
     "iopub.status.busy": "2021-03-23T10:40:24.675466Z",
     "iopub.status.idle": "2021-03-23T10:40:24.692052Z",
     "shell.execute_reply": "2021-03-23T10:40:24.691435Z"
    },
    "papermill": {
     "duration": 0.084601,
     "end_time": "2021-03-23T10:40:24.692210",
     "exception": false,
     "start_time": "2021-03-23T10:40:24.607609",
     "status": "completed"
    },
    "tags": []
   },
   "outputs": [
    {
     "data": {
      "text/plain": [
       "tweet_id                      0\n",
       "in_reply_to_status_id         0\n",
       "in_reply_to_user_id           0\n",
       "timestamp                     0\n",
       "source                        0\n",
       "text                          0\n",
       "retweeted_status_id           0\n",
       "retweeted_status_user_id      0\n",
       "retweeted_status_timestamp    0\n",
       "expanded_urls                 0\n",
       "rating_numerator              0\n",
       "rating_denominator            0\n",
       "name                          0\n",
       "doggo                         0\n",
       "floofer                       0\n",
       "pupper                        0\n",
       "puppo                         0\n",
       "dtype: int64"
      ]
     },
     "execution_count": 10,
     "metadata": {},
     "output_type": "execute_result"
    }
   ],
   "source": [
    "twitter_a[twitter_a.duplicated()].count()"
   ]
  },
  {
   "cell_type": "markdown",
   "metadata": {
    "papermill": {
     "duration": 0.064267,
     "end_time": "2021-03-23T10:40:24.818146",
     "exception": false,
     "start_time": "2021-03-23T10:40:24.753879",
     "status": "completed"
    },
    "tags": []
   },
   "source": [
    "#### quality issues\n",
    "    rating_numerator some times is lower than 10\n",
    "    tweet_id must be string not int\n",
    "    timestamp must be time not string\n",
    "    unnecessary columns\n",
    "    missing values in expanded_urls\n",
    "    unnecessary rating_denominator column\n",
    "    making name is lower for all\n",
    "    'None' values in name\n",
    "    \"None\" values in dog_stage"
   ]
  },
  {
   "cell_type": "markdown",
   "metadata": {
    "papermill": {
     "duration": 0.062323,
     "end_time": "2021-03-23T10:40:24.943257",
     "exception": false,
     "start_time": "2021-03-23T10:40:24.880934",
     "status": "completed"
    },
    "tags": []
   },
   "source": [
    "#### tidiness issues\n",
    "    dogs kind 4 variables in 4 columns and it should be in one column"
   ]
  },
  {
   "cell_type": "markdown",
   "metadata": {
    "papermill": {
     "duration": 0.06119,
     "end_time": "2021-03-23T10:40:25.067690",
     "exception": false,
     "start_time": "2021-03-23T10:40:25.006500",
     "status": "completed"
    },
    "tags": []
   },
   "source": [
    "### ---------------------------------------------------------------"
   ]
  },
  {
   "cell_type": "markdown",
   "metadata": {
    "papermill": {
     "duration": 0.061728,
     "end_time": "2021-03-23T10:40:25.193141",
     "exception": false,
     "start_time": "2021-03-23T10:40:25.131413",
     "status": "completed"
    },
    "tags": []
   },
   "source": [
    "#### image_p Assessing"
   ]
  },
  {
   "cell_type": "code",
   "execution_count": 11,
   "metadata": {
    "execution": {
     "iopub.execute_input": "2021-03-23T10:40:25.355305Z",
     "iopub.status.busy": "2021-03-23T10:40:25.354580Z",
     "iopub.status.idle": "2021-03-23T10:40:25.359662Z",
     "shell.execute_reply": "2021-03-23T10:40:25.359078Z"
    },
    "papermill": {
     "duration": 0.104844,
     "end_time": "2021-03-23T10:40:25.359819",
     "exception": false,
     "start_time": "2021-03-23T10:40:25.254975",
     "status": "completed"
    },
    "tags": []
   },
   "outputs": [
    {
     "data": {
      "text/html": [
       "<div>\n",
       "<style scoped>\n",
       "    .dataframe tbody tr th:only-of-type {\n",
       "        vertical-align: middle;\n",
       "    }\n",
       "\n",
       "    .dataframe tbody tr th {\n",
       "        vertical-align: top;\n",
       "    }\n",
       "\n",
       "    .dataframe thead th {\n",
       "        text-align: right;\n",
       "    }\n",
       "</style>\n",
       "<table border=\"1\" class=\"dataframe\">\n",
       "  <thead>\n",
       "    <tr style=\"text-align: right;\">\n",
       "      <th></th>\n",
       "      <th>tweet_id</th>\n",
       "      <th>jpg_url</th>\n",
       "      <th>img_num</th>\n",
       "      <th>p1</th>\n",
       "      <th>p1_conf</th>\n",
       "      <th>p1_dog</th>\n",
       "      <th>p2</th>\n",
       "      <th>p2_conf</th>\n",
       "      <th>p2_dog</th>\n",
       "      <th>p3</th>\n",
       "      <th>p3_conf</th>\n",
       "      <th>p3_dog</th>\n",
       "    </tr>\n",
       "  </thead>\n",
       "  <tbody>\n",
       "    <tr>\n",
       "      <th>0</th>\n",
       "      <td>666020888022790149</td>\n",
       "      <td>https://pbs.twimg.com/media/CT4udn0WwAA0aMy.jpg</td>\n",
       "      <td>1</td>\n",
       "      <td>Welsh_springer_spaniel</td>\n",
       "      <td>0.465074</td>\n",
       "      <td>True</td>\n",
       "      <td>collie</td>\n",
       "      <td>0.156665</td>\n",
       "      <td>True</td>\n",
       "      <td>Shetland_sheepdog</td>\n",
       "      <td>0.061428</td>\n",
       "      <td>True</td>\n",
       "    </tr>\n",
       "    <tr>\n",
       "      <th>1</th>\n",
       "      <td>666029285002620928</td>\n",
       "      <td>https://pbs.twimg.com/media/CT42GRgUYAA5iDo.jpg</td>\n",
       "      <td>1</td>\n",
       "      <td>redbone</td>\n",
       "      <td>0.506826</td>\n",
       "      <td>True</td>\n",
       "      <td>miniature_pinscher</td>\n",
       "      <td>0.074192</td>\n",
       "      <td>True</td>\n",
       "      <td>Rhodesian_ridgeback</td>\n",
       "      <td>0.072010</td>\n",
       "      <td>True</td>\n",
       "    </tr>\n",
       "    <tr>\n",
       "      <th>2</th>\n",
       "      <td>666033412701032449</td>\n",
       "      <td>https://pbs.twimg.com/media/CT4521TWwAEvMyu.jpg</td>\n",
       "      <td>1</td>\n",
       "      <td>German_shepherd</td>\n",
       "      <td>0.596461</td>\n",
       "      <td>True</td>\n",
       "      <td>malinois</td>\n",
       "      <td>0.138584</td>\n",
       "      <td>True</td>\n",
       "      <td>bloodhound</td>\n",
       "      <td>0.116197</td>\n",
       "      <td>True</td>\n",
       "    </tr>\n",
       "    <tr>\n",
       "      <th>3</th>\n",
       "      <td>666044226329800704</td>\n",
       "      <td>https://pbs.twimg.com/media/CT5Dr8HUEAA-lEu.jpg</td>\n",
       "      <td>1</td>\n",
       "      <td>Rhodesian_ridgeback</td>\n",
       "      <td>0.408143</td>\n",
       "      <td>True</td>\n",
       "      <td>redbone</td>\n",
       "      <td>0.360687</td>\n",
       "      <td>True</td>\n",
       "      <td>miniature_pinscher</td>\n",
       "      <td>0.222752</td>\n",
       "      <td>True</td>\n",
       "    </tr>\n",
       "    <tr>\n",
       "      <th>4</th>\n",
       "      <td>666049248165822465</td>\n",
       "      <td>https://pbs.twimg.com/media/CT5IQmsXIAAKY4A.jpg</td>\n",
       "      <td>1</td>\n",
       "      <td>miniature_pinscher</td>\n",
       "      <td>0.560311</td>\n",
       "      <td>True</td>\n",
       "      <td>Rottweiler</td>\n",
       "      <td>0.243682</td>\n",
       "      <td>True</td>\n",
       "      <td>Doberman</td>\n",
       "      <td>0.154629</td>\n",
       "      <td>True</td>\n",
       "    </tr>\n",
       "    <tr>\n",
       "      <th>...</th>\n",
       "      <td>...</td>\n",
       "      <td>...</td>\n",
       "      <td>...</td>\n",
       "      <td>...</td>\n",
       "      <td>...</td>\n",
       "      <td>...</td>\n",
       "      <td>...</td>\n",
       "      <td>...</td>\n",
       "      <td>...</td>\n",
       "      <td>...</td>\n",
       "      <td>...</td>\n",
       "      <td>...</td>\n",
       "    </tr>\n",
       "    <tr>\n",
       "      <th>2070</th>\n",
       "      <td>891327558926688256</td>\n",
       "      <td>https://pbs.twimg.com/media/DF6hr6BUMAAzZgT.jpg</td>\n",
       "      <td>2</td>\n",
       "      <td>basset</td>\n",
       "      <td>0.555712</td>\n",
       "      <td>True</td>\n",
       "      <td>English_springer</td>\n",
       "      <td>0.225770</td>\n",
       "      <td>True</td>\n",
       "      <td>German_short-haired_pointer</td>\n",
       "      <td>0.175219</td>\n",
       "      <td>True</td>\n",
       "    </tr>\n",
       "    <tr>\n",
       "      <th>2071</th>\n",
       "      <td>891689557279858688</td>\n",
       "      <td>https://pbs.twimg.com/media/DF_q7IAWsAEuuN8.jpg</td>\n",
       "      <td>1</td>\n",
       "      <td>paper_towel</td>\n",
       "      <td>0.170278</td>\n",
       "      <td>False</td>\n",
       "      <td>Labrador_retriever</td>\n",
       "      <td>0.168086</td>\n",
       "      <td>True</td>\n",
       "      <td>spatula</td>\n",
       "      <td>0.040836</td>\n",
       "      <td>False</td>\n",
       "    </tr>\n",
       "    <tr>\n",
       "      <th>2072</th>\n",
       "      <td>891815181378084864</td>\n",
       "      <td>https://pbs.twimg.com/media/DGBdLU1WsAANxJ9.jpg</td>\n",
       "      <td>1</td>\n",
       "      <td>Chihuahua</td>\n",
       "      <td>0.716012</td>\n",
       "      <td>True</td>\n",
       "      <td>malamute</td>\n",
       "      <td>0.078253</td>\n",
       "      <td>True</td>\n",
       "      <td>kelpie</td>\n",
       "      <td>0.031379</td>\n",
       "      <td>True</td>\n",
       "    </tr>\n",
       "    <tr>\n",
       "      <th>2073</th>\n",
       "      <td>892177421306343426</td>\n",
       "      <td>https://pbs.twimg.com/media/DGGmoV4XsAAUL6n.jpg</td>\n",
       "      <td>1</td>\n",
       "      <td>Chihuahua</td>\n",
       "      <td>0.323581</td>\n",
       "      <td>True</td>\n",
       "      <td>Pekinese</td>\n",
       "      <td>0.090647</td>\n",
       "      <td>True</td>\n",
       "      <td>papillon</td>\n",
       "      <td>0.068957</td>\n",
       "      <td>True</td>\n",
       "    </tr>\n",
       "    <tr>\n",
       "      <th>2074</th>\n",
       "      <td>892420643555336193</td>\n",
       "      <td>https://pbs.twimg.com/media/DGKD1-bXoAAIAUK.jpg</td>\n",
       "      <td>1</td>\n",
       "      <td>orange</td>\n",
       "      <td>0.097049</td>\n",
       "      <td>False</td>\n",
       "      <td>bagel</td>\n",
       "      <td>0.085851</td>\n",
       "      <td>False</td>\n",
       "      <td>banana</td>\n",
       "      <td>0.076110</td>\n",
       "      <td>False</td>\n",
       "    </tr>\n",
       "  </tbody>\n",
       "</table>\n",
       "<p>2075 rows × 12 columns</p>\n",
       "</div>"
      ],
      "text/plain": [
       "                tweet_id                                          jpg_url  \\\n",
       "0     666020888022790149  https://pbs.twimg.com/media/CT4udn0WwAA0aMy.jpg   \n",
       "1     666029285002620928  https://pbs.twimg.com/media/CT42GRgUYAA5iDo.jpg   \n",
       "2     666033412701032449  https://pbs.twimg.com/media/CT4521TWwAEvMyu.jpg   \n",
       "3     666044226329800704  https://pbs.twimg.com/media/CT5Dr8HUEAA-lEu.jpg   \n",
       "4     666049248165822465  https://pbs.twimg.com/media/CT5IQmsXIAAKY4A.jpg   \n",
       "...                  ...                                              ...   \n",
       "2070  891327558926688256  https://pbs.twimg.com/media/DF6hr6BUMAAzZgT.jpg   \n",
       "2071  891689557279858688  https://pbs.twimg.com/media/DF_q7IAWsAEuuN8.jpg   \n",
       "2072  891815181378084864  https://pbs.twimg.com/media/DGBdLU1WsAANxJ9.jpg   \n",
       "2073  892177421306343426  https://pbs.twimg.com/media/DGGmoV4XsAAUL6n.jpg   \n",
       "2074  892420643555336193  https://pbs.twimg.com/media/DGKD1-bXoAAIAUK.jpg   \n",
       "\n",
       "      img_num                      p1   p1_conf  p1_dog                  p2  \\\n",
       "0           1  Welsh_springer_spaniel  0.465074    True              collie   \n",
       "1           1                 redbone  0.506826    True  miniature_pinscher   \n",
       "2           1         German_shepherd  0.596461    True            malinois   \n",
       "3           1     Rhodesian_ridgeback  0.408143    True             redbone   \n",
       "4           1      miniature_pinscher  0.560311    True          Rottweiler   \n",
       "...       ...                     ...       ...     ...                 ...   \n",
       "2070        2                  basset  0.555712    True    English_springer   \n",
       "2071        1             paper_towel  0.170278   False  Labrador_retriever   \n",
       "2072        1               Chihuahua  0.716012    True            malamute   \n",
       "2073        1               Chihuahua  0.323581    True            Pekinese   \n",
       "2074        1                  orange  0.097049   False               bagel   \n",
       "\n",
       "       p2_conf  p2_dog                           p3   p3_conf  p3_dog  \n",
       "0     0.156665    True            Shetland_sheepdog  0.061428    True  \n",
       "1     0.074192    True          Rhodesian_ridgeback  0.072010    True  \n",
       "2     0.138584    True                   bloodhound  0.116197    True  \n",
       "3     0.360687    True           miniature_pinscher  0.222752    True  \n",
       "4     0.243682    True                     Doberman  0.154629    True  \n",
       "...        ...     ...                          ...       ...     ...  \n",
       "2070  0.225770    True  German_short-haired_pointer  0.175219    True  \n",
       "2071  0.168086    True                      spatula  0.040836   False  \n",
       "2072  0.078253    True                       kelpie  0.031379    True  \n",
       "2073  0.090647    True                     papillon  0.068957    True  \n",
       "2074  0.085851   False                       banana  0.076110   False  \n",
       "\n",
       "[2075 rows x 12 columns]"
      ]
     },
     "execution_count": 11,
     "metadata": {},
     "output_type": "execute_result"
    }
   ],
   "source": [
    "image_p"
   ]
  },
  {
   "cell_type": "code",
   "execution_count": 12,
   "metadata": {
    "execution": {
     "iopub.execute_input": "2021-03-23T10:40:25.505853Z",
     "iopub.status.busy": "2021-03-23T10:40:25.505081Z",
     "iopub.status.idle": "2021-03-23T10:40:25.510837Z",
     "shell.execute_reply": "2021-03-23T10:40:25.510059Z"
    },
    "papermill": {
     "duration": 0.08479,
     "end_time": "2021-03-23T10:40:25.511047",
     "exception": false,
     "start_time": "2021-03-23T10:40:25.426257",
     "status": "completed"
    },
    "tags": []
   },
   "outputs": [
    {
     "name": "stdout",
     "output_type": "stream",
     "text": [
      "<class 'pandas.core.frame.DataFrame'>\n",
      "RangeIndex: 2075 entries, 0 to 2074\n",
      "Data columns (total 12 columns):\n",
      " #   Column    Non-Null Count  Dtype  \n",
      "---  ------    --------------  -----  \n",
      " 0   tweet_id  2075 non-null   int64  \n",
      " 1   jpg_url   2075 non-null   object \n",
      " 2   img_num   2075 non-null   int64  \n",
      " 3   p1        2075 non-null   object \n",
      " 4   p1_conf   2075 non-null   float64\n",
      " 5   p1_dog    2075 non-null   bool   \n",
      " 6   p2        2075 non-null   object \n",
      " 7   p2_conf   2075 non-null   float64\n",
      " 8   p2_dog    2075 non-null   bool   \n",
      " 9   p3        2075 non-null   object \n",
      " 10  p3_conf   2075 non-null   float64\n",
      " 11  p3_dog    2075 non-null   bool   \n",
      "dtypes: bool(3), float64(3), int64(2), object(4)\n",
      "memory usage: 152.1+ KB\n"
     ]
    }
   ],
   "source": [
    "image_p.info()"
   ]
  },
  {
   "cell_type": "code",
   "execution_count": 13,
   "metadata": {
    "execution": {
     "iopub.execute_input": "2021-03-23T10:40:25.648606Z",
     "iopub.status.busy": "2021-03-23T10:40:25.647908Z",
     "iopub.status.idle": "2021-03-23T10:40:25.660248Z",
     "shell.execute_reply": "2021-03-23T10:40:25.659495Z"
    },
    "papermill": {
     "duration": 0.083039,
     "end_time": "2021-03-23T10:40:25.660411",
     "exception": false,
     "start_time": "2021-03-23T10:40:25.577372",
     "status": "completed"
    },
    "tags": []
   },
   "outputs": [
    {
     "data": {
      "text/plain": [
       "tweet_id    0\n",
       "jpg_url     0\n",
       "img_num     0\n",
       "p1          0\n",
       "p1_conf     0\n",
       "p1_dog      0\n",
       "p2          0\n",
       "p2_conf     0\n",
       "p2_dog      0\n",
       "p3          0\n",
       "p3_conf     0\n",
       "p3_dog      0\n",
       "dtype: int64"
      ]
     },
     "execution_count": 13,
     "metadata": {},
     "output_type": "execute_result"
    }
   ],
   "source": [
    "image_p[image_p[['tweet_id','jpg_url']].duplicated()].count()"
   ]
  },
  {
   "cell_type": "markdown",
   "metadata": {
    "papermill": {
     "duration": 0.065956,
     "end_time": "2021-03-23T10:40:25.792533",
     "exception": false,
     "start_time": "2021-03-23T10:40:25.726577",
     "status": "completed"
    },
    "tags": []
   },
   "source": [
    "#### quality issues\n",
    "    tweet_id must be string not int"
   ]
  },
  {
   "cell_type": "markdown",
   "metadata": {
    "papermill": {
     "duration": 0.066883,
     "end_time": "2021-03-23T10:40:25.926069",
     "exception": false,
     "start_time": "2021-03-23T10:40:25.859186",
     "status": "completed"
    },
    "tags": []
   },
   "source": [
    "#### --------------------------------------------------------------------------"
   ]
  },
  {
   "cell_type": "markdown",
   "metadata": {
    "papermill": {
     "duration": 0.063998,
     "end_time": "2021-03-23T10:40:26.058559",
     "exception": false,
     "start_time": "2021-03-23T10:40:25.994561",
     "status": "completed"
    },
    "tags": []
   },
   "source": [
    "#### tweet_data Assessing"
   ]
  },
  {
   "cell_type": "code",
   "execution_count": 14,
   "metadata": {
    "execution": {
     "iopub.execute_input": "2021-03-23T10:40:26.201740Z",
     "iopub.status.busy": "2021-03-23T10:40:26.200742Z",
     "iopub.status.idle": "2021-03-23T10:40:26.205567Z",
     "shell.execute_reply": "2021-03-23T10:40:26.204880Z"
    },
    "papermill": {
     "duration": 0.081503,
     "end_time": "2021-03-23T10:40:26.205719",
     "exception": false,
     "start_time": "2021-03-23T10:40:26.124216",
     "status": "completed"
    },
    "tags": []
   },
   "outputs": [
    {
     "data": {
      "text/html": [
       "<div>\n",
       "<style scoped>\n",
       "    .dataframe tbody tr th:only-of-type {\n",
       "        vertical-align: middle;\n",
       "    }\n",
       "\n",
       "    .dataframe tbody tr th {\n",
       "        vertical-align: top;\n",
       "    }\n",
       "\n",
       "    .dataframe thead th {\n",
       "        text-align: right;\n",
       "    }\n",
       "</style>\n",
       "<table border=\"1\" class=\"dataframe\">\n",
       "  <thead>\n",
       "    <tr style=\"text-align: right;\">\n",
       "      <th></th>\n",
       "      <th>id</th>\n",
       "      <th>retweet_count</th>\n",
       "      <th>favorite_count</th>\n",
       "    </tr>\n",
       "  </thead>\n",
       "  <tbody>\n",
       "    <tr>\n",
       "      <th>0</th>\n",
       "      <td>892420643555336193</td>\n",
       "      <td>8853</td>\n",
       "      <td>39467</td>\n",
       "    </tr>\n",
       "    <tr>\n",
       "      <th>1</th>\n",
       "      <td>892177421306343426</td>\n",
       "      <td>6514</td>\n",
       "      <td>33819</td>\n",
       "    </tr>\n",
       "    <tr>\n",
       "      <th>2</th>\n",
       "      <td>891815181378084864</td>\n",
       "      <td>4328</td>\n",
       "      <td>25461</td>\n",
       "    </tr>\n",
       "    <tr>\n",
       "      <th>3</th>\n",
       "      <td>891689557279858688</td>\n",
       "      <td>8964</td>\n",
       "      <td>42908</td>\n",
       "    </tr>\n",
       "    <tr>\n",
       "      <th>4</th>\n",
       "      <td>891327558926688256</td>\n",
       "      <td>9774</td>\n",
       "      <td>41048</td>\n",
       "    </tr>\n",
       "    <tr>\n",
       "      <th>...</th>\n",
       "      <td>...</td>\n",
       "      <td>...</td>\n",
       "      <td>...</td>\n",
       "    </tr>\n",
       "    <tr>\n",
       "      <th>2349</th>\n",
       "      <td>666049248165822465</td>\n",
       "      <td>41</td>\n",
       "      <td>111</td>\n",
       "    </tr>\n",
       "    <tr>\n",
       "      <th>2350</th>\n",
       "      <td>666044226329800704</td>\n",
       "      <td>147</td>\n",
       "      <td>311</td>\n",
       "    </tr>\n",
       "    <tr>\n",
       "      <th>2351</th>\n",
       "      <td>666033412701032449</td>\n",
       "      <td>47</td>\n",
       "      <td>128</td>\n",
       "    </tr>\n",
       "    <tr>\n",
       "      <th>2352</th>\n",
       "      <td>666029285002620928</td>\n",
       "      <td>48</td>\n",
       "      <td>132</td>\n",
       "    </tr>\n",
       "    <tr>\n",
       "      <th>2353</th>\n",
       "      <td>666020888022790149</td>\n",
       "      <td>532</td>\n",
       "      <td>2535</td>\n",
       "    </tr>\n",
       "  </tbody>\n",
       "</table>\n",
       "<p>2354 rows × 3 columns</p>\n",
       "</div>"
      ],
      "text/plain": [
       "                      id  retweet_count  favorite_count\n",
       "0     892420643555336193           8853           39467\n",
       "1     892177421306343426           6514           33819\n",
       "2     891815181378084864           4328           25461\n",
       "3     891689557279858688           8964           42908\n",
       "4     891327558926688256           9774           41048\n",
       "...                  ...            ...             ...\n",
       "2349  666049248165822465             41             111\n",
       "2350  666044226329800704            147             311\n",
       "2351  666033412701032449             47             128\n",
       "2352  666029285002620928             48             132\n",
       "2353  666020888022790149            532            2535\n",
       "\n",
       "[2354 rows x 3 columns]"
      ]
     },
     "execution_count": 14,
     "metadata": {},
     "output_type": "execute_result"
    }
   ],
   "source": [
    "tweet_data"
   ]
  },
  {
   "cell_type": "code",
   "execution_count": 15,
   "metadata": {
    "execution": {
     "iopub.execute_input": "2021-03-23T10:40:26.353433Z",
     "iopub.status.busy": "2021-03-23T10:40:26.352417Z",
     "iopub.status.idle": "2021-03-23T10:40:26.357341Z",
     "shell.execute_reply": "2021-03-23T10:40:26.357814Z"
    },
    "papermill": {
     "duration": 0.088221,
     "end_time": "2021-03-23T10:40:26.358012",
     "exception": false,
     "start_time": "2021-03-23T10:40:26.269791",
     "status": "completed"
    },
    "tags": []
   },
   "outputs": [
    {
     "name": "stdout",
     "output_type": "stream",
     "text": [
      "<class 'pandas.core.frame.DataFrame'>\n",
      "RangeIndex: 2354 entries, 0 to 2353\n",
      "Data columns (total 3 columns):\n",
      " #   Column          Non-Null Count  Dtype\n",
      "---  ------          --------------  -----\n",
      " 0   id              2354 non-null   int64\n",
      " 1   retweet_count   2354 non-null   int64\n",
      " 2   favorite_count  2354 non-null   int64\n",
      "dtypes: int64(3)\n",
      "memory usage: 55.3 KB\n"
     ]
    }
   ],
   "source": [
    "tweet_data.info()"
   ]
  },
  {
   "cell_type": "code",
   "execution_count": 16,
   "metadata": {
    "execution": {
     "iopub.execute_input": "2021-03-23T10:40:26.498962Z",
     "iopub.status.busy": "2021-03-23T10:40:26.497804Z",
     "iopub.status.idle": "2021-03-23T10:40:26.518392Z",
     "shell.execute_reply": "2021-03-23T10:40:26.517819Z"
    },
    "papermill": {
     "duration": 0.095246,
     "end_time": "2021-03-23T10:40:26.518565",
     "exception": false,
     "start_time": "2021-03-23T10:40:26.423319",
     "status": "completed"
    },
    "tags": []
   },
   "outputs": [
    {
     "data": {
      "text/html": [
       "<div>\n",
       "<style scoped>\n",
       "    .dataframe tbody tr th:only-of-type {\n",
       "        vertical-align: middle;\n",
       "    }\n",
       "\n",
       "    .dataframe tbody tr th {\n",
       "        vertical-align: top;\n",
       "    }\n",
       "\n",
       "    .dataframe thead th {\n",
       "        text-align: right;\n",
       "    }\n",
       "</style>\n",
       "<table border=\"1\" class=\"dataframe\">\n",
       "  <thead>\n",
       "    <tr style=\"text-align: right;\">\n",
       "      <th></th>\n",
       "      <th>id</th>\n",
       "      <th>retweet_count</th>\n",
       "      <th>favorite_count</th>\n",
       "    </tr>\n",
       "  </thead>\n",
       "  <tbody>\n",
       "    <tr>\n",
       "      <th>count</th>\n",
       "      <td>2.354000e+03</td>\n",
       "      <td>2354.000000</td>\n",
       "      <td>2354.000000</td>\n",
       "    </tr>\n",
       "    <tr>\n",
       "      <th>mean</th>\n",
       "      <td>7.426978e+17</td>\n",
       "      <td>3164.797366</td>\n",
       "      <td>8080.968564</td>\n",
       "    </tr>\n",
       "    <tr>\n",
       "      <th>std</th>\n",
       "      <td>6.852812e+16</td>\n",
       "      <td>5284.770364</td>\n",
       "      <td>11814.771334</td>\n",
       "    </tr>\n",
       "    <tr>\n",
       "      <th>min</th>\n",
       "      <td>6.660209e+17</td>\n",
       "      <td>0.000000</td>\n",
       "      <td>0.000000</td>\n",
       "    </tr>\n",
       "    <tr>\n",
       "      <th>25%</th>\n",
       "      <td>6.783975e+17</td>\n",
       "      <td>624.500000</td>\n",
       "      <td>1415.000000</td>\n",
       "    </tr>\n",
       "    <tr>\n",
       "      <th>50%</th>\n",
       "      <td>7.194596e+17</td>\n",
       "      <td>1473.500000</td>\n",
       "      <td>3603.500000</td>\n",
       "    </tr>\n",
       "    <tr>\n",
       "      <th>75%</th>\n",
       "      <td>7.993058e+17</td>\n",
       "      <td>3652.000000</td>\n",
       "      <td>10122.250000</td>\n",
       "    </tr>\n",
       "    <tr>\n",
       "      <th>max</th>\n",
       "      <td>8.924206e+17</td>\n",
       "      <td>79515.000000</td>\n",
       "      <td>132810.000000</td>\n",
       "    </tr>\n",
       "  </tbody>\n",
       "</table>\n",
       "</div>"
      ],
      "text/plain": [
       "                 id  retweet_count  favorite_count\n",
       "count  2.354000e+03    2354.000000     2354.000000\n",
       "mean   7.426978e+17    3164.797366     8080.968564\n",
       "std    6.852812e+16    5284.770364    11814.771334\n",
       "min    6.660209e+17       0.000000        0.000000\n",
       "25%    6.783975e+17     624.500000     1415.000000\n",
       "50%    7.194596e+17    1473.500000     3603.500000\n",
       "75%    7.993058e+17    3652.000000    10122.250000\n",
       "max    8.924206e+17   79515.000000   132810.000000"
      ]
     },
     "execution_count": 16,
     "metadata": {},
     "output_type": "execute_result"
    }
   ],
   "source": [
    "tweet_data.describe()"
   ]
  },
  {
   "cell_type": "code",
   "execution_count": 17,
   "metadata": {
    "execution": {
     "iopub.execute_input": "2021-03-23T10:40:26.657441Z",
     "iopub.status.busy": "2021-03-23T10:40:26.656709Z",
     "iopub.status.idle": "2021-03-23T10:40:26.665115Z",
     "shell.execute_reply": "2021-03-23T10:40:26.664481Z"
    },
    "papermill": {
     "duration": 0.080724,
     "end_time": "2021-03-23T10:40:26.665266",
     "exception": false,
     "start_time": "2021-03-23T10:40:26.584542",
     "status": "completed"
    },
    "tags": []
   },
   "outputs": [
    {
     "data": {
      "text/plain": [
       "id                0\n",
       "retweet_count     0\n",
       "favorite_count    0\n",
       "dtype: int64"
      ]
     },
     "execution_count": 17,
     "metadata": {},
     "output_type": "execute_result"
    }
   ],
   "source": [
    "tweet_data[tweet_data.duplicated()].count()"
   ]
  },
  {
   "cell_type": "markdown",
   "metadata": {
    "papermill": {
     "duration": 0.066375,
     "end_time": "2021-03-23T10:40:26.798760",
     "exception": false,
     "start_time": "2021-03-23T10:40:26.732385",
     "status": "completed"
    },
    "tags": []
   },
   "source": [
    "#### quality issues\n",
    "    id must be string not int"
   ]
  },
  {
   "cell_type": "markdown",
   "metadata": {
    "papermill": {
     "duration": 0.066344,
     "end_time": "2021-03-23T10:40:26.931273",
     "exception": false,
     "start_time": "2021-03-23T10:40:26.864929",
     "status": "completed"
    },
    "tags": []
   },
   "source": [
    "#### tidiness issues\n",
    "    all data is related but seperated to 3 tables"
   ]
  },
  {
   "cell_type": "markdown",
   "metadata": {
    "papermill": {
     "duration": 0.065002,
     "end_time": "2021-03-23T10:40:27.063412",
     "exception": false,
     "start_time": "2021-03-23T10:40:26.998410",
     "status": "completed"
    },
    "tags": []
   },
   "source": [
    "#### --------------------------------------------------------------------------------"
   ]
  },
  {
   "cell_type": "markdown",
   "metadata": {
    "papermill": {
     "duration": 0.067931,
     "end_time": "2021-03-23T10:40:27.198656",
     "exception": false,
     "start_time": "2021-03-23T10:40:27.130725",
     "status": "completed"
    },
    "tags": []
   },
   "source": [
    "# Cleaning"
   ]
  },
  {
   "cell_type": "code",
   "execution_count": 18,
   "metadata": {
    "execution": {
     "iopub.execute_input": "2021-03-23T10:40:27.337430Z",
     "iopub.status.busy": "2021-03-23T10:40:27.336698Z",
     "iopub.status.idle": "2021-03-23T10:40:27.340461Z",
     "shell.execute_reply": "2021-03-23T10:40:27.339781Z"
    },
    "papermill": {
     "duration": 0.074667,
     "end_time": "2021-03-23T10:40:27.340609",
     "exception": false,
     "start_time": "2021-03-23T10:40:27.265942",
     "status": "completed"
    },
    "tags": []
   },
   "outputs": [],
   "source": [
    "twitter_a_cleaning=twitter_a.copy()"
   ]
  },
  {
   "cell_type": "code",
   "execution_count": 19,
   "metadata": {
    "execution": {
     "iopub.execute_input": "2021-03-23T10:40:27.477818Z",
     "iopub.status.busy": "2021-03-23T10:40:27.477146Z",
     "iopub.status.idle": "2021-03-23T10:40:27.481084Z",
     "shell.execute_reply": "2021-03-23T10:40:27.480418Z"
    },
    "papermill": {
     "duration": 0.075022,
     "end_time": "2021-03-23T10:40:27.481249",
     "exception": false,
     "start_time": "2021-03-23T10:40:27.406227",
     "status": "completed"
    },
    "tags": []
   },
   "outputs": [],
   "source": [
    "image_p_cleaning=image_p.copy()"
   ]
  },
  {
   "cell_type": "code",
   "execution_count": 20,
   "metadata": {
    "execution": {
     "iopub.execute_input": "2021-03-23T10:40:27.623294Z",
     "iopub.status.busy": "2021-03-23T10:40:27.622584Z",
     "iopub.status.idle": "2021-03-23T10:40:27.625895Z",
     "shell.execute_reply": "2021-03-23T10:40:27.625356Z"
    },
    "papermill": {
     "duration": 0.077348,
     "end_time": "2021-03-23T10:40:27.626080",
     "exception": false,
     "start_time": "2021-03-23T10:40:27.548732",
     "status": "completed"
    },
    "tags": []
   },
   "outputs": [],
   "source": [
    "tweet_data_cleaning=tweet_data.copy()"
   ]
  },
  {
   "cell_type": "markdown",
   "metadata": {
    "papermill": {
     "duration": 0.065664,
     "end_time": "2021-03-23T10:40:27.760908",
     "exception": false,
     "start_time": "2021-03-23T10:40:27.695244",
     "status": "completed"
    },
    "tags": []
   },
   "source": [
    "### twitter_a quality Cleaning"
   ]
  },
  {
   "cell_type": "markdown",
   "metadata": {
    "papermill": {
     "duration": 0.06932,
     "end_time": "2021-03-23T10:40:27.903705",
     "exception": false,
     "start_time": "2021-03-23T10:40:27.834385",
     "status": "completed"
    },
    "tags": []
   },
   "source": [
    "###### 1:- rating_numerator some times is lower than 10\n",
    "    def:adding 10 to the numerator which value is less than 10"
   ]
  },
  {
   "cell_type": "code",
   "execution_count": 21,
   "metadata": {
    "execution": {
     "iopub.execute_input": "2021-03-23T10:40:28.045375Z",
     "iopub.status.busy": "2021-03-23T10:40:28.044476Z",
     "iopub.status.idle": "2021-03-23T10:40:28.068169Z",
     "shell.execute_reply": "2021-03-23T10:40:28.067321Z"
    },
    "papermill": {
     "duration": 0.096055,
     "end_time": "2021-03-23T10:40:28.068412",
     "exception": false,
     "start_time": "2021-03-23T10:40:27.972357",
     "status": "completed"
    },
    "tags": []
   },
   "outputs": [],
   "source": [
    "cond=twitter_a_cleaning['rating_numerator']<10\n",
    "col=twitter_a_cleaning[cond]\n",
    "col_cleaning=col['rating_numerator']\n",
    "col_cleaning=col_cleaning+10"
   ]
  },
  {
   "cell_type": "code",
   "execution_count": 22,
   "metadata": {
    "execution": {
     "iopub.execute_input": "2021-03-23T10:40:28.209133Z",
     "iopub.status.busy": "2021-03-23T10:40:28.208006Z",
     "iopub.status.idle": "2021-03-23T10:40:28.213782Z",
     "shell.execute_reply": "2021-03-23T10:40:28.214328Z"
    },
    "papermill": {
     "duration": 0.077044,
     "end_time": "2021-03-23T10:40:28.214522",
     "exception": false,
     "start_time": "2021-03-23T10:40:28.137478",
     "status": "completed"
    },
    "tags": []
   },
   "outputs": [],
   "source": [
    "twitter_a_cleaning.loc[cond,'rating_numerator']=col_cleaning"
   ]
  },
  {
   "cell_type": "code",
   "execution_count": 23,
   "metadata": {
    "execution": {
     "iopub.execute_input": "2021-03-23T10:40:28.361139Z",
     "iopub.status.busy": "2021-03-23T10:40:28.360133Z",
     "iopub.status.idle": "2021-03-23T10:40:28.375316Z",
     "shell.execute_reply": "2021-03-23T10:40:28.374709Z"
    },
    "papermill": {
     "duration": 0.09434,
     "end_time": "2021-03-23T10:40:28.375482",
     "exception": false,
     "start_time": "2021-03-23T10:40:28.281142",
     "status": "completed"
    },
    "tags": []
   },
   "outputs": [
    {
     "data": {
      "text/html": [
       "<div>\n",
       "<style scoped>\n",
       "    .dataframe tbody tr th:only-of-type {\n",
       "        vertical-align: middle;\n",
       "    }\n",
       "\n",
       "    .dataframe tbody tr th {\n",
       "        vertical-align: top;\n",
       "    }\n",
       "\n",
       "    .dataframe thead th {\n",
       "        text-align: right;\n",
       "    }\n",
       "</style>\n",
       "<table border=\"1\" class=\"dataframe\">\n",
       "  <thead>\n",
       "    <tr style=\"text-align: right;\">\n",
       "      <th></th>\n",
       "      <th>tweet_id</th>\n",
       "      <th>in_reply_to_status_id</th>\n",
       "      <th>in_reply_to_user_id</th>\n",
       "      <th>timestamp</th>\n",
       "      <th>source</th>\n",
       "      <th>text</th>\n",
       "      <th>retweeted_status_id</th>\n",
       "      <th>retweeted_status_user_id</th>\n",
       "      <th>retweeted_status_timestamp</th>\n",
       "      <th>expanded_urls</th>\n",
       "      <th>rating_numerator</th>\n",
       "      <th>rating_denominator</th>\n",
       "      <th>name</th>\n",
       "      <th>doggo</th>\n",
       "      <th>floofer</th>\n",
       "      <th>pupper</th>\n",
       "      <th>puppo</th>\n",
       "    </tr>\n",
       "  </thead>\n",
       "  <tbody>\n",
       "  </tbody>\n",
       "</table>\n",
       "</div>"
      ],
      "text/plain": [
       "Empty DataFrame\n",
       "Columns: [tweet_id, in_reply_to_status_id, in_reply_to_user_id, timestamp, source, text, retweeted_status_id, retweeted_status_user_id, retweeted_status_timestamp, expanded_urls, rating_numerator, rating_denominator, name, doggo, floofer, pupper, puppo]\n",
       "Index: []"
      ]
     },
     "execution_count": 23,
     "metadata": {},
     "output_type": "execute_result"
    }
   ],
   "source": [
    "#testing\n",
    "twitter_a_cleaning[twitter_a_cleaning['rating_numerator']<10]"
   ]
  },
  {
   "cell_type": "markdown",
   "metadata": {
    "papermill": {
     "duration": 0.069476,
     "end_time": "2021-03-23T10:40:28.515106",
     "exception": false,
     "start_time": "2021-03-23T10:40:28.445630",
     "status": "completed"
    },
    "tags": []
   },
   "source": [
    "##### 2:- tweet_id must be string not int\n",
    "    def turning all wrong data types below to the right data types"
   ]
  },
  {
   "cell_type": "code",
   "execution_count": 24,
   "metadata": {
    "execution": {
     "iopub.execute_input": "2021-03-23T10:40:28.658837Z",
     "iopub.status.busy": "2021-03-23T10:40:28.657726Z",
     "iopub.status.idle": "2021-03-23T10:40:28.666362Z",
     "shell.execute_reply": "2021-03-23T10:40:28.666846Z"
    },
    "papermill": {
     "duration": 0.083405,
     "end_time": "2021-03-23T10:40:28.667068",
     "exception": false,
     "start_time": "2021-03-23T10:40:28.583663",
     "status": "completed"
    },
    "tags": []
   },
   "outputs": [],
   "source": [
    "twitter_a_cleaning['tweet_id']=twitter_a_cleaning['tweet_id'].astype(str)"
   ]
  },
  {
   "cell_type": "markdown",
   "metadata": {
    "papermill": {
     "duration": 0.067145,
     "end_time": "2021-03-23T10:40:28.801422",
     "exception": false,
     "start_time": "2021-03-23T10:40:28.734277",
     "status": "completed"
    },
    "tags": []
   },
   "source": [
    "##### 3:-timestamp must be time not string"
   ]
  },
  {
   "cell_type": "code",
   "execution_count": 25,
   "metadata": {
    "execution": {
     "iopub.execute_input": "2021-03-23T10:40:28.939680Z",
     "iopub.status.busy": "2021-03-23T10:40:28.938605Z",
     "iopub.status.idle": "2021-03-23T10:40:28.946389Z",
     "shell.execute_reply": "2021-03-23T10:40:28.946860Z"
    },
    "papermill": {
     "duration": 0.07828,
     "end_time": "2021-03-23T10:40:28.947068",
     "exception": false,
     "start_time": "2021-03-23T10:40:28.868788",
     "status": "completed"
    },
    "tags": []
   },
   "outputs": [],
   "source": [
    "twitter_a_cleaning['timestamp']=pd.to_datetime(twitter_a_cleaning['timestamp'])"
   ]
  },
  {
   "cell_type": "code",
   "execution_count": 26,
   "metadata": {
    "execution": {
     "iopub.execute_input": "2021-03-23T10:40:29.087511Z",
     "iopub.status.busy": "2021-03-23T10:40:29.086524Z",
     "iopub.status.idle": "2021-03-23T10:40:29.104630Z",
     "shell.execute_reply": "2021-03-23T10:40:29.105392Z"
    },
    "papermill": {
     "duration": 0.090437,
     "end_time": "2021-03-23T10:40:29.105658",
     "exception": false,
     "start_time": "2021-03-23T10:40:29.015221",
     "status": "completed"
    },
    "tags": []
   },
   "outputs": [
    {
     "name": "stdout",
     "output_type": "stream",
     "text": [
      "<class 'pandas.core.frame.DataFrame'>\n",
      "RangeIndex: 2356 entries, 0 to 2355\n",
      "Data columns (total 17 columns):\n",
      " #   Column                      Non-Null Count  Dtype              \n",
      "---  ------                      --------------  -----              \n",
      " 0   tweet_id                    2356 non-null   object             \n",
      " 1   in_reply_to_status_id       78 non-null     float64            \n",
      " 2   in_reply_to_user_id         78 non-null     float64            \n",
      " 3   timestamp                   2356 non-null   datetime64[ns, UTC]\n",
      " 4   source                      2356 non-null   object             \n",
      " 5   text                        2356 non-null   object             \n",
      " 6   retweeted_status_id         181 non-null    float64            \n",
      " 7   retweeted_status_user_id    181 non-null    float64            \n",
      " 8   retweeted_status_timestamp  181 non-null    object             \n",
      " 9   expanded_urls               2297 non-null   object             \n",
      " 10  rating_numerator            2356 non-null   int64              \n",
      " 11  rating_denominator          2356 non-null   int64              \n",
      " 12  name                        2356 non-null   object             \n",
      " 13  doggo                       2356 non-null   object             \n",
      " 14  floofer                     2356 non-null   object             \n",
      " 15  pupper                      2356 non-null   object             \n",
      " 16  puppo                       2356 non-null   object             \n",
      "dtypes: datetime64[ns, UTC](1), float64(4), int64(2), object(10)\n",
      "memory usage: 313.0+ KB\n"
     ]
    }
   ],
   "source": [
    "#test\n",
    "twitter_a_cleaning.info()"
   ]
  },
  {
   "cell_type": "markdown",
   "metadata": {
    "papermill": {
     "duration": 0.070575,
     "end_time": "2021-03-23T10:40:29.247319",
     "exception": false,
     "start_time": "2021-03-23T10:40:29.176744",
     "status": "completed"
    },
    "tags": []
   },
   "source": [
    "##### 4:- unnecessary columns\n",
    "    def:drop all the unnecessary columns"
   ]
  },
  {
   "cell_type": "code",
   "execution_count": 27,
   "metadata": {
    "execution": {
     "iopub.execute_input": "2021-03-23T10:40:29.389999Z",
     "iopub.status.busy": "2021-03-23T10:40:29.388946Z",
     "iopub.status.idle": "2021-03-23T10:40:29.395917Z",
     "shell.execute_reply": "2021-03-23T10:40:29.396405Z"
    },
    "papermill": {
     "duration": 0.078248,
     "end_time": "2021-03-23T10:40:29.396595",
     "exception": false,
     "start_time": "2021-03-23T10:40:29.318347",
     "status": "completed"
    },
    "tags": []
   },
   "outputs": [],
   "source": [
    "twitter_a_cleaning=twitter_a_cleaning.drop(['in_reply_to_status_id','in_reply_to_user_id','retweeted_status_id',\n",
    "                                            'retweeted_status_user_id','retweeted_status_timestamp'],axis=1)"
   ]
  },
  {
   "cell_type": "code",
   "execution_count": 28,
   "metadata": {
    "execution": {
     "iopub.execute_input": "2021-03-23T10:40:29.537133Z",
     "iopub.status.busy": "2021-03-23T10:40:29.536163Z",
     "iopub.status.idle": "2021-03-23T10:40:29.543570Z",
     "shell.execute_reply": "2021-03-23T10:40:29.544022Z"
    },
    "papermill": {
     "duration": 0.07907,
     "end_time": "2021-03-23T10:40:29.544225",
     "exception": false,
     "start_time": "2021-03-23T10:40:29.465155",
     "status": "completed"
    },
    "tags": []
   },
   "outputs": [
    {
     "data": {
      "text/plain": [
       "rating_numerator      1\n",
       "puppo                 1\n",
       "floofer               1\n",
       "pupper                1\n",
       "source                1\n",
       "text                  1\n",
       "timestamp             1\n",
       "rating_denominator    1\n",
       "expanded_urls         1\n",
       "tweet_id              1\n",
       "doggo                 1\n",
       "name                  1\n",
       "dtype: int64"
      ]
     },
     "execution_count": 28,
     "metadata": {},
     "output_type": "execute_result"
    }
   ],
   "source": [
    "#testing\n",
    "twitter_a_cleaning.columns.value_counts()"
   ]
  },
  {
   "cell_type": "markdown",
   "metadata": {
    "papermill": {
     "duration": 0.068366,
     "end_time": "2021-03-23T10:40:29.680532",
     "exception": false,
     "start_time": "2021-03-23T10:40:29.612166",
     "status": "completed"
    },
    "tags": []
   },
   "source": [
    "##### 5:- missing values in expanded_urls\n",
    "    def:drop all missing values"
   ]
  },
  {
   "cell_type": "code",
   "execution_count": 29,
   "metadata": {
    "execution": {
     "iopub.execute_input": "2021-03-23T10:40:29.824072Z",
     "iopub.status.busy": "2021-03-23T10:40:29.823031Z",
     "iopub.status.idle": "2021-03-23T10:40:29.832810Z",
     "shell.execute_reply": "2021-03-23T10:40:29.833318Z"
    },
    "papermill": {
     "duration": 0.083791,
     "end_time": "2021-03-23T10:40:29.833529",
     "exception": false,
     "start_time": "2021-03-23T10:40:29.749738",
     "status": "completed"
    },
    "tags": []
   },
   "outputs": [],
   "source": [
    "twitter_a_cleaning=twitter_a_cleaning.dropna()"
   ]
  },
  {
   "cell_type": "code",
   "execution_count": 30,
   "metadata": {
    "execution": {
     "iopub.execute_input": "2021-03-23T10:40:29.975241Z",
     "iopub.status.busy": "2021-03-23T10:40:29.974263Z",
     "iopub.status.idle": "2021-03-23T10:40:29.984539Z",
     "shell.execute_reply": "2021-03-23T10:40:29.985143Z"
    },
    "papermill": {
     "duration": 0.082847,
     "end_time": "2021-03-23T10:40:29.985332",
     "exception": false,
     "start_time": "2021-03-23T10:40:29.902485",
     "status": "completed"
    },
    "tags": []
   },
   "outputs": [
    {
     "data": {
      "text/plain": [
       "False    2297\n",
       "Name: expanded_urls, dtype: int64"
      ]
     },
     "execution_count": 30,
     "metadata": {},
     "output_type": "execute_result"
    }
   ],
   "source": [
    "#testing\n",
    "twitter_a_cleaning.expanded_urls.isnull().value_counts()"
   ]
  },
  {
   "cell_type": "markdown",
   "metadata": {
    "papermill": {
     "duration": 0.071085,
     "end_time": "2021-03-23T10:40:30.128409",
     "exception": false,
     "start_time": "2021-03-23T10:40:30.057324",
     "status": "completed"
    },
    "tags": []
   },
   "source": [
    "##### 6:- unnecessary rating_denominator column\n",
    "    def:drop rating_denominator column"
   ]
  },
  {
   "cell_type": "code",
   "execution_count": 31,
   "metadata": {
    "execution": {
     "iopub.execute_input": "2021-03-23T10:40:30.279452Z",
     "iopub.status.busy": "2021-03-23T10:40:30.278688Z",
     "iopub.status.idle": "2021-03-23T10:40:30.285310Z",
     "shell.execute_reply": "2021-03-23T10:40:30.284594Z"
    },
    "papermill": {
     "duration": 0.082367,
     "end_time": "2021-03-23T10:40:30.285462",
     "exception": false,
     "start_time": "2021-03-23T10:40:30.203095",
     "status": "completed"
    },
    "tags": []
   },
   "outputs": [],
   "source": [
    "twitter_a_cleaning=twitter_a_cleaning.drop('rating_denominator',axis=1)"
   ]
  },
  {
   "cell_type": "code",
   "execution_count": 32,
   "metadata": {
    "execution": {
     "iopub.execute_input": "2021-03-23T10:40:30.433526Z",
     "iopub.status.busy": "2021-03-23T10:40:30.432665Z",
     "iopub.status.idle": "2021-03-23T10:40:30.435662Z",
     "shell.execute_reply": "2021-03-23T10:40:30.435170Z"
    },
    "papermill": {
     "duration": 0.079188,
     "end_time": "2021-03-23T10:40:30.435824",
     "exception": false,
     "start_time": "2021-03-23T10:40:30.356636",
     "status": "completed"
    },
    "tags": []
   },
   "outputs": [],
   "source": [
    "twitter_a_cleaning=twitter_a_cleaning.rename(columns={'rating_numerator':'rating_(over_10)'})"
   ]
  },
  {
   "cell_type": "code",
   "execution_count": 33,
   "metadata": {
    "execution": {
     "iopub.execute_input": "2021-03-23T10:40:30.583760Z",
     "iopub.status.busy": "2021-03-23T10:40:30.582684Z",
     "iopub.status.idle": "2021-03-23T10:40:30.586997Z",
     "shell.execute_reply": "2021-03-23T10:40:30.586436Z"
    },
    "papermill": {
     "duration": 0.081445,
     "end_time": "2021-03-23T10:40:30.587164",
     "exception": false,
     "start_time": "2021-03-23T10:40:30.505719",
     "status": "completed"
    },
    "tags": []
   },
   "outputs": [
    {
     "data": {
      "text/plain": [
       "floofer             1\n",
       "pupper              1\n",
       "source              1\n",
       "rating_(over_10)    1\n",
       "text                1\n",
       "timestamp           1\n",
       "puppo               1\n",
       "expanded_urls       1\n",
       "tweet_id            1\n",
       "doggo               1\n",
       "name                1\n",
       "dtype: int64"
      ]
     },
     "execution_count": 33,
     "metadata": {},
     "output_type": "execute_result"
    }
   ],
   "source": [
    "#testing\n",
    "twitter_a_cleaning.columns.value_counts()"
   ]
  },
  {
   "cell_type": "markdown",
   "metadata": {
    "papermill": {
     "duration": 0.069007,
     "end_time": "2021-03-23T10:40:30.726834",
     "exception": false,
     "start_time": "2021-03-23T10:40:30.657827",
     "status": "completed"
    },
    "tags": []
   },
   "source": [
    "##### 7:-making name is lower for all\n",
    "    def :lowercase all names"
   ]
  },
  {
   "cell_type": "code",
   "execution_count": 34,
   "metadata": {
    "execution": {
     "iopub.execute_input": "2021-03-23T10:40:30.872170Z",
     "iopub.status.busy": "2021-03-23T10:40:30.870995Z",
     "iopub.status.idle": "2021-03-23T10:40:30.878141Z",
     "shell.execute_reply": "2021-03-23T10:40:30.878683Z"
    },
    "papermill": {
     "duration": 0.082199,
     "end_time": "2021-03-23T10:40:30.878901",
     "exception": false,
     "start_time": "2021-03-23T10:40:30.796702",
     "status": "completed"
    },
    "tags": []
   },
   "outputs": [],
   "source": [
    "twitter_a_cleaning.name=twitter_a_cleaning.name.str.lower()"
   ]
  },
  {
   "cell_type": "code",
   "execution_count": 35,
   "metadata": {
    "execution": {
     "iopub.execute_input": "2021-03-23T10:40:31.036473Z",
     "iopub.status.busy": "2021-03-23T10:40:31.035652Z",
     "iopub.status.idle": "2021-03-23T10:40:31.039174Z",
     "shell.execute_reply": "2021-03-23T10:40:31.039648Z"
    },
    "papermill": {
     "duration": 0.090853,
     "end_time": "2021-03-23T10:40:31.039833",
     "exception": false,
     "start_time": "2021-03-23T10:40:30.948980",
     "status": "completed"
    },
    "tags": []
   },
   "outputs": [
    {
     "data": {
      "text/plain": [
       "0        phineas\n",
       "1          tilly\n",
       "2         archie\n",
       "3          darla\n",
       "4       franklin\n",
       "          ...   \n",
       "2351        none\n",
       "2352           a\n",
       "2353           a\n",
       "2354           a\n",
       "2355        none\n",
       "Name: name, Length: 2297, dtype: object"
      ]
     },
     "execution_count": 35,
     "metadata": {},
     "output_type": "execute_result"
    }
   ],
   "source": [
    "#test\n",
    "twitter_a_cleaning.name"
   ]
  },
  {
   "cell_type": "markdown",
   "metadata": {
    "papermill": {
     "duration": 0.071703,
     "end_time": "2021-03-23T10:40:31.181851",
     "exception": false,
     "start_time": "2021-03-23T10:40:31.110148",
     "status": "completed"
    },
    "tags": []
   },
   "source": [
    "### twitter_a tidiness Cleaning\n",
    "    def:one values in four col | so will merge this four columns"
   ]
  },
  {
   "cell_type": "code",
   "execution_count": 36,
   "metadata": {
    "execution": {
     "iopub.execute_input": "2021-03-23T10:40:31.325706Z",
     "iopub.status.busy": "2021-03-23T10:40:31.325018Z",
     "iopub.status.idle": "2021-03-23T10:40:31.355191Z",
     "shell.execute_reply": "2021-03-23T10:40:31.355692Z"
    },
    "papermill": {
     "duration": 0.103799,
     "end_time": "2021-03-23T10:40:31.355892",
     "exception": false,
     "start_time": "2021-03-23T10:40:31.252093",
     "status": "completed"
    },
    "tags": []
   },
   "outputs": [],
   "source": [
    "twitter_a_cleaning=pd.melt(twitter_a_cleaning,id_vars=['tweet_id','timestamp','source','text','expanded_urls',\n",
    "                                                       'rating_(over_10)','name'])"
   ]
  },
  {
   "cell_type": "code",
   "execution_count": 37,
   "metadata": {
    "execution": {
     "iopub.execute_input": "2021-03-23T10:40:31.504527Z",
     "iopub.status.busy": "2021-03-23T10:40:31.503797Z",
     "iopub.status.idle": "2021-03-23T10:40:31.512515Z",
     "shell.execute_reply": "2021-03-23T10:40:31.511739Z"
    },
    "papermill": {
     "duration": 0.084204,
     "end_time": "2021-03-23T10:40:31.512673",
     "exception": false,
     "start_time": "2021-03-23T10:40:31.428469",
     "status": "completed"
    },
    "tags": []
   },
   "outputs": [],
   "source": [
    "twitter_a_cleaning=twitter_a_cleaning.drop('variable',axis=1)\n",
    "twitter_a_cleaning=twitter_a_cleaning.rename(columns={'value':'dog_stage'})"
   ]
  },
  {
   "cell_type": "code",
   "execution_count": 38,
   "metadata": {
    "execution": {
     "iopub.execute_input": "2021-03-23T10:40:31.678201Z",
     "iopub.status.busy": "2021-03-23T10:40:31.671611Z",
     "iopub.status.idle": "2021-03-23T10:40:31.681997Z",
     "shell.execute_reply": "2021-03-23T10:40:31.682551Z"
    },
    "papermill": {
     "duration": 0.096905,
     "end_time": "2021-03-23T10:40:31.682736",
     "exception": false,
     "start_time": "2021-03-23T10:40:31.585831",
     "status": "completed"
    },
    "tags": []
   },
   "outputs": [
    {
     "data": {
      "text/html": [
       "<div>\n",
       "<style scoped>\n",
       "    .dataframe tbody tr th:only-of-type {\n",
       "        vertical-align: middle;\n",
       "    }\n",
       "\n",
       "    .dataframe tbody tr th {\n",
       "        vertical-align: top;\n",
       "    }\n",
       "\n",
       "    .dataframe thead th {\n",
       "        text-align: right;\n",
       "    }\n",
       "</style>\n",
       "<table border=\"1\" class=\"dataframe\">\n",
       "  <thead>\n",
       "    <tr style=\"text-align: right;\">\n",
       "      <th></th>\n",
       "      <th>tweet_id</th>\n",
       "      <th>timestamp</th>\n",
       "      <th>source</th>\n",
       "      <th>text</th>\n",
       "      <th>expanded_urls</th>\n",
       "      <th>rating_(over_10)</th>\n",
       "      <th>name</th>\n",
       "      <th>dog_stage</th>\n",
       "    </tr>\n",
       "  </thead>\n",
       "  <tbody>\n",
       "    <tr>\n",
       "      <th>8097</th>\n",
       "      <td>712065007010385924</td>\n",
       "      <td>2016-03-21 23:55:01+00:00</td>\n",
       "      <td>&lt;a href=\"http://twitter.com/download/iphone\" r...</td>\n",
       "      <td>This is Chester. He's clearly in charge of the...</td>\n",
       "      <td>https://twitter.com/dog_rates/status/712065007...</td>\n",
       "      <td>16</td>\n",
       "      <td>chester</td>\n",
       "      <td>None</td>\n",
       "    </tr>\n",
       "    <tr>\n",
       "      <th>7674</th>\n",
       "      <td>771102124360998913</td>\n",
       "      <td>2016-08-31 21:47:27+00:00</td>\n",
       "      <td>&lt;a href=\"http://twitter.com/download/iphone\" r...</td>\n",
       "      <td>This is Charlie. He works for @TODAYshow. Supe...</td>\n",
       "      <td>https://twitter.com/dog_rates/status/771102124...</td>\n",
       "      <td>12</td>\n",
       "      <td>charlie</td>\n",
       "      <td>None</td>\n",
       "    </tr>\n",
       "    <tr>\n",
       "      <th>7616</th>\n",
       "      <td>778748913645780993</td>\n",
       "      <td>2016-09-22 00:13:04+00:00</td>\n",
       "      <td>&lt;a href=\"http://twitter.com/download/iphone\" r...</td>\n",
       "      <td>This is Mya (pronounced \"mmmyah?\"). Her head i...</td>\n",
       "      <td>https://twitter.com/dog_rates/status/778748913...</td>\n",
       "      <td>11</td>\n",
       "      <td>mya</td>\n",
       "      <td>None</td>\n",
       "    </tr>\n",
       "    <tr>\n",
       "      <th>5897</th>\n",
       "      <td>704871453724954624</td>\n",
       "      <td>2016-03-02 03:30:25+00:00</td>\n",
       "      <td>&lt;a href=\"http://twitter.com/download/iphone\" r...</td>\n",
       "      <td>I found a forest Pipsy. 12/10 https://t.co/mIQ...</td>\n",
       "      <td>https://twitter.com/dog_rates/status/704871453...</td>\n",
       "      <td>12</td>\n",
       "      <td>none</td>\n",
       "      <td>None</td>\n",
       "    </tr>\n",
       "    <tr>\n",
       "      <th>6502</th>\n",
       "      <td>673352124999274496</td>\n",
       "      <td>2015-12-06 04:03:51+00:00</td>\n",
       "      <td>&lt;a href=\"http://twitter.com/download/iphone\" r...</td>\n",
       "      <td>*lets out a tiny screech and then goes into co...</td>\n",
       "      <td>https://twitter.com/dog_rates/status/673352124...</td>\n",
       "      <td>12</td>\n",
       "      <td>none</td>\n",
       "      <td>None</td>\n",
       "    </tr>\n",
       "  </tbody>\n",
       "</table>\n",
       "</div>"
      ],
      "text/plain": [
       "                tweet_id                 timestamp  \\\n",
       "8097  712065007010385924 2016-03-21 23:55:01+00:00   \n",
       "7674  771102124360998913 2016-08-31 21:47:27+00:00   \n",
       "7616  778748913645780993 2016-09-22 00:13:04+00:00   \n",
       "5897  704871453724954624 2016-03-02 03:30:25+00:00   \n",
       "6502  673352124999274496 2015-12-06 04:03:51+00:00   \n",
       "\n",
       "                                                 source  \\\n",
       "8097  <a href=\"http://twitter.com/download/iphone\" r...   \n",
       "7674  <a href=\"http://twitter.com/download/iphone\" r...   \n",
       "7616  <a href=\"http://twitter.com/download/iphone\" r...   \n",
       "5897  <a href=\"http://twitter.com/download/iphone\" r...   \n",
       "6502  <a href=\"http://twitter.com/download/iphone\" r...   \n",
       "\n",
       "                                                   text  \\\n",
       "8097  This is Chester. He's clearly in charge of the...   \n",
       "7674  This is Charlie. He works for @TODAYshow. Supe...   \n",
       "7616  This is Mya (pronounced \"mmmyah?\"). Her head i...   \n",
       "5897  I found a forest Pipsy. 12/10 https://t.co/mIQ...   \n",
       "6502  *lets out a tiny screech and then goes into co...   \n",
       "\n",
       "                                          expanded_urls  rating_(over_10)  \\\n",
       "8097  https://twitter.com/dog_rates/status/712065007...                16   \n",
       "7674  https://twitter.com/dog_rates/status/771102124...                12   \n",
       "7616  https://twitter.com/dog_rates/status/778748913...                11   \n",
       "5897  https://twitter.com/dog_rates/status/704871453...                12   \n",
       "6502  https://twitter.com/dog_rates/status/673352124...                12   \n",
       "\n",
       "         name dog_stage  \n",
       "8097  chester      None  \n",
       "7674  charlie      None  \n",
       "7616      mya      None  \n",
       "5897     none      None  \n",
       "6502     none      None  "
      ]
     },
     "execution_count": 38,
     "metadata": {},
     "output_type": "execute_result"
    }
   ],
   "source": [
    "#testing\n",
    "twitter_a_cleaning.sample(5)"
   ]
  },
  {
   "cell_type": "markdown",
   "metadata": {
    "papermill": {
     "duration": 0.074892,
     "end_time": "2021-03-23T10:40:31.831375",
     "exception": false,
     "start_time": "2021-03-23T10:40:31.756483",
     "status": "completed"
    },
    "tags": []
   },
   "source": [
    "###### 8:- 'None' values in name | quality cleaning (continued)\n",
    "    def : remove all the 'none' values"
   ]
  },
  {
   "cell_type": "code",
   "execution_count": 39,
   "metadata": {
    "execution": {
     "iopub.execute_input": "2021-03-23T10:40:31.982340Z",
     "iopub.status.busy": "2021-03-23T10:40:31.981630Z",
     "iopub.status.idle": "2021-03-23T10:40:31.992337Z",
     "shell.execute_reply": "2021-03-23T10:40:31.992900Z"
    },
    "papermill": {
     "duration": 0.088657,
     "end_time": "2021-03-23T10:40:31.993106",
     "exception": false,
     "start_time": "2021-03-23T10:40:31.904449",
     "status": "completed"
    },
    "tags": []
   },
   "outputs": [],
   "source": [
    "index_arr=twitter_a_cleaning[twitter_a_cleaning['name']=='none'].index\n",
    "twitter_a_cleaning=twitter_a_cleaning.drop(index_arr)"
   ]
  },
  {
   "cell_type": "code",
   "execution_count": 40,
   "metadata": {
    "execution": {
     "iopub.execute_input": "2021-03-23T10:40:32.143984Z",
     "iopub.status.busy": "2021-03-23T10:40:32.143381Z",
     "iopub.status.idle": "2021-03-23T10:40:32.155710Z",
     "shell.execute_reply": "2021-03-23T10:40:32.155137Z"
    },
    "papermill": {
     "duration": 0.088114,
     "end_time": "2021-03-23T10:40:32.155867",
     "exception": false,
     "start_time": "2021-03-23T10:40:32.067753",
     "status": "completed"
    },
    "tags": []
   },
   "outputs": [
    {
     "data": {
      "text/html": [
       "<div>\n",
       "<style scoped>\n",
       "    .dataframe tbody tr th:only-of-type {\n",
       "        vertical-align: middle;\n",
       "    }\n",
       "\n",
       "    .dataframe tbody tr th {\n",
       "        vertical-align: top;\n",
       "    }\n",
       "\n",
       "    .dataframe thead th {\n",
       "        text-align: right;\n",
       "    }\n",
       "</style>\n",
       "<table border=\"1\" class=\"dataframe\">\n",
       "  <thead>\n",
       "    <tr style=\"text-align: right;\">\n",
       "      <th></th>\n",
       "      <th>tweet_id</th>\n",
       "      <th>timestamp</th>\n",
       "      <th>source</th>\n",
       "      <th>text</th>\n",
       "      <th>expanded_urls</th>\n",
       "      <th>rating_(over_10)</th>\n",
       "      <th>name</th>\n",
       "      <th>dog_stage</th>\n",
       "    </tr>\n",
       "  </thead>\n",
       "  <tbody>\n",
       "  </tbody>\n",
       "</table>\n",
       "</div>"
      ],
      "text/plain": [
       "Empty DataFrame\n",
       "Columns: [tweet_id, timestamp, source, text, expanded_urls, rating_(over_10), name, dog_stage]\n",
       "Index: []"
      ]
     },
     "execution_count": 40,
     "metadata": {},
     "output_type": "execute_result"
    }
   ],
   "source": [
    "#testing\n",
    "twitter_a_cleaning[twitter_a_cleaning['name']=='none']"
   ]
  },
  {
   "cell_type": "markdown",
   "metadata": {
    "papermill": {
     "duration": 0.0729,
     "end_time": "2021-03-23T10:40:32.305130",
     "exception": false,
     "start_time": "2021-03-23T10:40:32.232230",
     "status": "completed"
    },
    "tags": []
   },
   "source": [
    "###### 9:-\"None\" values in dog_stage\n",
    "    def : remove all the 'none' values"
   ]
  },
  {
   "cell_type": "code",
   "execution_count": 41,
   "metadata": {
    "execution": {
     "iopub.execute_input": "2021-03-23T10:40:32.456710Z",
     "iopub.status.busy": "2021-03-23T10:40:32.456068Z",
     "iopub.status.idle": "2021-03-23T10:40:32.465335Z",
     "shell.execute_reply": "2021-03-23T10:40:32.464579Z"
    },
    "papermill": {
     "duration": 0.087612,
     "end_time": "2021-03-23T10:40:32.465489",
     "exception": false,
     "start_time": "2021-03-23T10:40:32.377877",
     "status": "completed"
    },
    "tags": []
   },
   "outputs": [],
   "source": [
    "index_arr=twitter_a_cleaning[twitter_a_cleaning['dog_stage']=='None'].index\n",
    "twitter_a_cleaning=twitter_a_cleaning.drop(index_arr)"
   ]
  },
  {
   "cell_type": "code",
   "execution_count": 42,
   "metadata": {
    "execution": {
     "iopub.execute_input": "2021-03-23T10:40:32.624556Z",
     "iopub.status.busy": "2021-03-23T10:40:32.623525Z",
     "iopub.status.idle": "2021-03-23T10:40:32.626688Z",
     "shell.execute_reply": "2021-03-23T10:40:32.627232Z"
    },
    "papermill": {
     "duration": 0.088295,
     "end_time": "2021-03-23T10:40:32.627421",
     "exception": false,
     "start_time": "2021-03-23T10:40:32.539126",
     "status": "completed"
    },
    "tags": []
   },
   "outputs": [
    {
     "data": {
      "text/html": [
       "<div>\n",
       "<style scoped>\n",
       "    .dataframe tbody tr th:only-of-type {\n",
       "        vertical-align: middle;\n",
       "    }\n",
       "\n",
       "    .dataframe tbody tr th {\n",
       "        vertical-align: top;\n",
       "    }\n",
       "\n",
       "    .dataframe thead th {\n",
       "        text-align: right;\n",
       "    }\n",
       "</style>\n",
       "<table border=\"1\" class=\"dataframe\">\n",
       "  <thead>\n",
       "    <tr style=\"text-align: right;\">\n",
       "      <th></th>\n",
       "      <th>tweet_id</th>\n",
       "      <th>timestamp</th>\n",
       "      <th>source</th>\n",
       "      <th>text</th>\n",
       "      <th>expanded_urls</th>\n",
       "      <th>rating_(over_10)</th>\n",
       "      <th>name</th>\n",
       "      <th>dog_stage</th>\n",
       "    </tr>\n",
       "  </thead>\n",
       "  <tbody>\n",
       "  </tbody>\n",
       "</table>\n",
       "</div>"
      ],
      "text/plain": [
       "Empty DataFrame\n",
       "Columns: [tweet_id, timestamp, source, text, expanded_urls, rating_(over_10), name, dog_stage]\n",
       "Index: []"
      ]
     },
     "execution_count": 42,
     "metadata": {},
     "output_type": "execute_result"
    }
   ],
   "source": [
    "#testing\n",
    "twitter_a_cleaning[twitter_a_cleaning['dog_stage']=='None']"
   ]
  },
  {
   "cell_type": "code",
   "execution_count": 43,
   "metadata": {
    "execution": {
     "iopub.execute_input": "2021-03-23T10:40:32.779630Z",
     "iopub.status.busy": "2021-03-23T10:40:32.778803Z",
     "iopub.status.idle": "2021-03-23T10:40:32.787141Z",
     "shell.execute_reply": "2021-03-23T10:40:32.787716Z"
    },
    "papermill": {
     "duration": 0.085083,
     "end_time": "2021-03-23T10:40:32.787937",
     "exception": false,
     "start_time": "2021-03-23T10:40:32.702854",
     "status": "completed"
    },
    "tags": []
   },
   "outputs": [],
   "source": [
    "twitter_a_cleaning=twitter_a_cleaning.drop_duplicates()"
   ]
  },
  {
   "cell_type": "markdown",
   "metadata": {
    "papermill": {
     "duration": 0.073333,
     "end_time": "2021-03-23T10:40:32.934744",
     "exception": false,
     "start_time": "2021-03-23T10:40:32.861411",
     "status": "completed"
    },
    "tags": []
   },
   "source": [
    "###### --------------------------------------------------------------------------------"
   ]
  },
  {
   "cell_type": "markdown",
   "metadata": {
    "papermill": {
     "duration": 0.073914,
     "end_time": "2021-03-23T10:40:33.083635",
     "exception": false,
     "start_time": "2021-03-23T10:40:33.009721",
     "status": "completed"
    },
    "tags": []
   },
   "source": [
    "### image_P quality Cleaning"
   ]
  },
  {
   "cell_type": "markdown",
   "metadata": {
    "papermill": {
     "duration": 0.075183,
     "end_time": "2021-03-23T10:40:33.232660",
     "exception": false,
     "start_time": "2021-03-23T10:40:33.157477",
     "status": "completed"
    },
    "tags": []
   },
   "source": [
    "###### tweet_id must be string not int\n",
    "    def:turning wrong data type below to the right data type"
   ]
  },
  {
   "cell_type": "code",
   "execution_count": 44,
   "metadata": {
    "execution": {
     "iopub.execute_input": "2021-03-23T10:40:33.385611Z",
     "iopub.status.busy": "2021-03-23T10:40:33.384902Z",
     "iopub.status.idle": "2021-03-23T10:40:33.394155Z",
     "shell.execute_reply": "2021-03-23T10:40:33.393439Z"
    },
    "papermill": {
     "duration": 0.086109,
     "end_time": "2021-03-23T10:40:33.394311",
     "exception": false,
     "start_time": "2021-03-23T10:40:33.308202",
     "status": "completed"
    },
    "tags": []
   },
   "outputs": [],
   "source": [
    "image_p_cleaning['tweet_id']=image_p_cleaning['tweet_id'].astype(str)"
   ]
  },
  {
   "cell_type": "code",
   "execution_count": 45,
   "metadata": {
    "execution": {
     "iopub.execute_input": "2021-03-23T10:40:33.559533Z",
     "iopub.status.busy": "2021-03-23T10:40:33.558419Z",
     "iopub.status.idle": "2021-03-23T10:40:33.562918Z",
     "shell.execute_reply": "2021-03-23T10:40:33.562339Z"
    },
    "papermill": {
     "duration": 0.09534,
     "end_time": "2021-03-23T10:40:33.563098",
     "exception": false,
     "start_time": "2021-03-23T10:40:33.467758",
     "status": "completed"
    },
    "tags": []
   },
   "outputs": [
    {
     "name": "stdout",
     "output_type": "stream",
     "text": [
      "<class 'pandas.core.frame.DataFrame'>\n",
      "RangeIndex: 2075 entries, 0 to 2074\n",
      "Data columns (total 12 columns):\n",
      " #   Column    Non-Null Count  Dtype  \n",
      "---  ------    --------------  -----  \n",
      " 0   tweet_id  2075 non-null   object \n",
      " 1   jpg_url   2075 non-null   object \n",
      " 2   img_num   2075 non-null   int64  \n",
      " 3   p1        2075 non-null   object \n",
      " 4   p1_conf   2075 non-null   float64\n",
      " 5   p1_dog    2075 non-null   bool   \n",
      " 6   p2        2075 non-null   object \n",
      " 7   p2_conf   2075 non-null   float64\n",
      " 8   p2_dog    2075 non-null   bool   \n",
      " 9   p3        2075 non-null   object \n",
      " 10  p3_conf   2075 non-null   float64\n",
      " 11  p3_dog    2075 non-null   bool   \n",
      "dtypes: bool(3), float64(3), int64(1), object(5)\n",
      "memory usage: 152.1+ KB\n"
     ]
    }
   ],
   "source": [
    "#test\n",
    "image_p_cleaning.info()"
   ]
  },
  {
   "cell_type": "markdown",
   "metadata": {
    "papermill": {
     "duration": 0.073954,
     "end_time": "2021-03-23T10:40:33.711979",
     "exception": false,
     "start_time": "2021-03-23T10:40:33.638025",
     "status": "completed"
    },
    "tags": []
   },
   "source": [
    "###### drop false,false,false p1_dog\n",
    "    def:drop unnecessary all false results"
   ]
  },
  {
   "cell_type": "code",
   "execution_count": 46,
   "metadata": {
    "execution": {
     "iopub.execute_input": "2021-03-23T10:40:33.871267Z",
     "iopub.status.busy": "2021-03-23T10:40:33.870407Z",
     "iopub.status.idle": "2021-03-23T10:40:33.874780Z",
     "shell.execute_reply": "2021-03-23T10:40:33.874143Z"
    },
    "papermill": {
     "duration": 0.088637,
     "end_time": "2021-03-23T10:40:33.874923",
     "exception": false,
     "start_time": "2021-03-23T10:40:33.786286",
     "status": "completed"
    },
    "tags": []
   },
   "outputs": [],
   "source": [
    "false=(image_p_cleaning['p1_dog']==False )& (image_p_cleaning['p2_dog'] == False)&(image_p_cleaning['p3_dog'] == False)\n",
    "false_index=image_p_cleaning[false].index\n",
    "image_p_cleaning=image_p_cleaning.drop(false_index)"
   ]
  },
  {
   "cell_type": "code",
   "execution_count": 47,
   "metadata": {
    "execution": {
     "iopub.execute_input": "2021-03-23T10:40:34.046930Z",
     "iopub.status.busy": "2021-03-23T10:40:34.045557Z",
     "iopub.status.idle": "2021-03-23T10:40:34.075327Z",
     "shell.execute_reply": "2021-03-23T10:40:34.074470Z"
    },
    "papermill": {
     "duration": 0.126093,
     "end_time": "2021-03-23T10:40:34.075543",
     "exception": false,
     "start_time": "2021-03-23T10:40:33.949450",
     "status": "completed"
    },
    "tags": []
   },
   "outputs": [
    {
     "data": {
      "text/plain": [
       "tweet_id    0\n",
       "jpg_url     0\n",
       "img_num     0\n",
       "p1          0\n",
       "p1_conf     0\n",
       "p1_dog      0\n",
       "p2          0\n",
       "p2_conf     0\n",
       "p2_dog      0\n",
       "p3          0\n",
       "p3_conf     0\n",
       "p3_dog      0\n",
       "dtype: int64"
      ]
     },
     "execution_count": 47,
     "metadata": {},
     "output_type": "execute_result"
    }
   ],
   "source": [
    "#test\n",
    "image_p_cleaning[image_p_cleaning[(image_p_cleaning['p1_dog']==False )&\n",
    "                                  (image_p_cleaning['p2_dog'] == False)&(image_p_cleaning['p3_dog'] == False)]].count()"
   ]
  },
  {
   "cell_type": "markdown",
   "metadata": {
    "papermill": {
     "duration": 0.075044,
     "end_time": "2021-03-23T10:40:34.239165",
     "exception": false,
     "start_time": "2021-03-23T10:40:34.164121",
     "status": "completed"
    },
    "tags": []
   },
   "source": [
    "###### --------------------------------------------------------------------------------"
   ]
  },
  {
   "cell_type": "markdown",
   "metadata": {
    "papermill": {
     "duration": 0.073403,
     "end_time": "2021-03-23T10:40:34.388200",
     "exception": false,
     "start_time": "2021-03-23T10:40:34.314797",
     "status": "completed"
    },
    "tags": []
   },
   "source": [
    "### tweet_data quality cleaning"
   ]
  },
  {
   "cell_type": "markdown",
   "metadata": {
    "papermill": {
     "duration": 0.073238,
     "end_time": "2021-03-23T10:40:34.534939",
     "exception": false,
     "start_time": "2021-03-23T10:40:34.461701",
     "status": "completed"
    },
    "tags": []
   },
   "source": [
    "###### id must be string not int\n",
    "    def:turning wrong data type below to the right data type"
   ]
  },
  {
   "cell_type": "code",
   "execution_count": 48,
   "metadata": {
    "execution": {
     "iopub.execute_input": "2021-03-23T10:40:34.691579Z",
     "iopub.status.busy": "2021-03-23T10:40:34.690746Z",
     "iopub.status.idle": "2021-03-23T10:40:34.694696Z",
     "shell.execute_reply": "2021-03-23T10:40:34.693996Z"
    },
    "papermill": {
     "duration": 0.086408,
     "end_time": "2021-03-23T10:40:34.694854",
     "exception": false,
     "start_time": "2021-03-23T10:40:34.608446",
     "status": "completed"
    },
    "tags": []
   },
   "outputs": [],
   "source": [
    "tweet_data_cleaning['id']=tweet_data_cleaning['id'].astype(str)"
   ]
  },
  {
   "cell_type": "code",
   "execution_count": 49,
   "metadata": {
    "execution": {
     "iopub.execute_input": "2021-03-23T10:40:34.862624Z",
     "iopub.status.busy": "2021-03-23T10:40:34.861592Z",
     "iopub.status.idle": "2021-03-23T10:40:34.866809Z",
     "shell.execute_reply": "2021-03-23T10:40:34.866246Z"
    },
    "papermill": {
     "duration": 0.097391,
     "end_time": "2021-03-23T10:40:34.866957",
     "exception": false,
     "start_time": "2021-03-23T10:40:34.769566",
     "status": "completed"
    },
    "tags": []
   },
   "outputs": [
    {
     "name": "stdout",
     "output_type": "stream",
     "text": [
      "<class 'pandas.core.frame.DataFrame'>\n",
      "RangeIndex: 2354 entries, 0 to 2353\n",
      "Data columns (total 3 columns):\n",
      " #   Column          Non-Null Count  Dtype \n",
      "---  ------          --------------  ----- \n",
      " 0   id              2354 non-null   object\n",
      " 1   retweet_count   2354 non-null   int64 \n",
      " 2   favorite_count  2354 non-null   int64 \n",
      "dtypes: int64(2), object(1)\n",
      "memory usage: 55.3+ KB\n"
     ]
    }
   ],
   "source": [
    "#testing\n",
    "tweet_data_cleaning.info()"
   ]
  },
  {
   "cell_type": "markdown",
   "metadata": {
    "papermill": {
     "duration": 0.0747,
     "end_time": "2021-03-23T10:40:35.016433",
     "exception": false,
     "start_time": "2021-03-23T10:40:34.941733",
     "status": "completed"
    },
    "tags": []
   },
   "source": [
    "###### rename id to tweet_id"
   ]
  },
  {
   "cell_type": "code",
   "execution_count": 50,
   "metadata": {
    "execution": {
     "iopub.execute_input": "2021-03-23T10:40:35.176737Z",
     "iopub.status.busy": "2021-03-23T10:40:35.175832Z",
     "iopub.status.idle": "2021-03-23T10:40:35.179556Z",
     "shell.execute_reply": "2021-03-23T10:40:35.178890Z"
    },
    "papermill": {
     "duration": 0.085939,
     "end_time": "2021-03-23T10:40:35.179702",
     "exception": false,
     "start_time": "2021-03-23T10:40:35.093763",
     "status": "completed"
    },
    "tags": []
   },
   "outputs": [],
   "source": [
    "tweet_data_cleaning=tweet_data_cleaning.rename(columns={'id':'tweet_id'})"
   ]
  },
  {
   "cell_type": "code",
   "execution_count": 51,
   "metadata": {
    "execution": {
     "iopub.execute_input": "2021-03-23T10:40:35.343000Z",
     "iopub.status.busy": "2021-03-23T10:40:35.341934Z",
     "iopub.status.idle": "2021-03-23T10:40:35.347338Z",
     "shell.execute_reply": "2021-03-23T10:40:35.346786Z"
    },
    "papermill": {
     "duration": 0.088998,
     "end_time": "2021-03-23T10:40:35.347490",
     "exception": false,
     "start_time": "2021-03-23T10:40:35.258492",
     "status": "completed"
    },
    "tags": []
   },
   "outputs": [
    {
     "data": {
      "text/plain": [
       "tweet_id          1\n",
       "retweet_count     1\n",
       "favorite_count    1\n",
       "dtype: int64"
      ]
     },
     "execution_count": 51,
     "metadata": {},
     "output_type": "execute_result"
    }
   ],
   "source": [
    "#testing\n",
    "tweet_data_cleaning.columns.value_counts()"
   ]
  },
  {
   "cell_type": "markdown",
   "metadata": {
    "papermill": {
     "duration": 0.075222,
     "end_time": "2021-03-23T10:40:35.497701",
     "exception": false,
     "start_time": "2021-03-23T10:40:35.422479",
     "status": "completed"
    },
    "tags": []
   },
   "source": [
    "###### --------------------------------------------------------------------------------"
   ]
  },
  {
   "cell_type": "markdown",
   "metadata": {
    "papermill": {
     "duration": 0.075766,
     "end_time": "2021-03-23T10:40:35.648167",
     "exception": false,
     "start_time": "2021-03-23T10:40:35.572401",
     "status": "completed"
    },
    "tags": []
   },
   "source": [
    "### all data tidiness issue"
   ]
  },
  {
   "cell_type": "markdown",
   "metadata": {
    "papermill": {
     "duration": 0.075594,
     "end_time": "2021-03-23T10:40:35.801140",
     "exception": false,
     "start_time": "2021-03-23T10:40:35.725546",
     "status": "completed"
    },
    "tags": []
   },
   "source": [
    "###### all data is related but seperated to 3 tables\n",
    "    def:left join the three tables on tweet_id"
   ]
  },
  {
   "cell_type": "code",
   "execution_count": 52,
   "metadata": {
    "execution": {
     "iopub.execute_input": "2021-03-23T10:40:35.960221Z",
     "iopub.status.busy": "2021-03-23T10:40:35.959181Z",
     "iopub.status.idle": "2021-03-23T10:40:35.973102Z",
     "shell.execute_reply": "2021-03-23T10:40:35.972487Z"
    },
    "papermill": {
     "duration": 0.096865,
     "end_time": "2021-03-23T10:40:35.973298",
     "exception": false,
     "start_time": "2021-03-23T10:40:35.876433",
     "status": "completed"
    },
    "tags": []
   },
   "outputs": [],
   "source": [
    "the_final_data=pd.merge(twitter_a_cleaning,image_p_cleaning,on='tweet_id',how='left')"
   ]
  },
  {
   "cell_type": "code",
   "execution_count": 53,
   "metadata": {
    "execution": {
     "iopub.execute_input": "2021-03-23T10:40:36.135917Z",
     "iopub.status.busy": "2021-03-23T10:40:36.135242Z",
     "iopub.status.idle": "2021-03-23T10:40:36.145023Z",
     "shell.execute_reply": "2021-03-23T10:40:36.144328Z"
    },
    "papermill": {
     "duration": 0.093939,
     "end_time": "2021-03-23T10:40:36.145206",
     "exception": false,
     "start_time": "2021-03-23T10:40:36.051267",
     "status": "completed"
    },
    "tags": []
   },
   "outputs": [],
   "source": [
    "the_final_data=pd.merge(the_final_data,tweet_data_cleaning,on='tweet_id',how='left')"
   ]
  },
  {
   "cell_type": "code",
   "execution_count": 54,
   "metadata": {
    "execution": {
     "iopub.execute_input": "2021-03-23T10:40:36.370302Z",
     "iopub.status.busy": "2021-03-23T10:40:36.369256Z",
     "iopub.status.idle": "2021-03-23T10:40:36.388141Z",
     "shell.execute_reply": "2021-03-23T10:40:36.388597Z"
    },
    "papermill": {
     "duration": 0.165343,
     "end_time": "2021-03-23T10:40:36.388783",
     "exception": false,
     "start_time": "2021-03-23T10:40:36.223440",
     "status": "completed"
    },
    "tags": []
   },
   "outputs": [
    {
     "data": {
      "text/html": [
       "<div>\n",
       "<style scoped>\n",
       "    .dataframe tbody tr th:only-of-type {\n",
       "        vertical-align: middle;\n",
       "    }\n",
       "\n",
       "    .dataframe tbody tr th {\n",
       "        vertical-align: top;\n",
       "    }\n",
       "\n",
       "    .dataframe thead th {\n",
       "        text-align: right;\n",
       "    }\n",
       "</style>\n",
       "<table border=\"1\" class=\"dataframe\">\n",
       "  <thead>\n",
       "    <tr style=\"text-align: right;\">\n",
       "      <th></th>\n",
       "      <th>tweet_id</th>\n",
       "      <th>timestamp</th>\n",
       "      <th>source</th>\n",
       "      <th>text</th>\n",
       "      <th>expanded_urls</th>\n",
       "      <th>rating_(over_10)</th>\n",
       "      <th>name</th>\n",
       "      <th>dog_stage</th>\n",
       "      <th>jpg_url</th>\n",
       "      <th>img_num</th>\n",
       "      <th>...</th>\n",
       "      <th>p1_conf</th>\n",
       "      <th>p1_dog</th>\n",
       "      <th>p2</th>\n",
       "      <th>p2_conf</th>\n",
       "      <th>p2_dog</th>\n",
       "      <th>p3</th>\n",
       "      <th>p3_conf</th>\n",
       "      <th>p3_dog</th>\n",
       "      <th>retweet_count</th>\n",
       "      <th>favorite_count</th>\n",
       "    </tr>\n",
       "  </thead>\n",
       "  <tbody>\n",
       "    <tr>\n",
       "      <th>37</th>\n",
       "      <td>777953400541634568</td>\n",
       "      <td>2016-09-19 19:31:59+00:00</td>\n",
       "      <td>&lt;a href=\"http://twitter.com/download/iphone\" r...</td>\n",
       "      <td>RT @dog_rates: Meet Gerald. He's a fairly exot...</td>\n",
       "      <td>https://twitter.com/dog_rates/status/768193404...</td>\n",
       "      <td>18</td>\n",
       "      <td>gerald</td>\n",
       "      <td>doggo</td>\n",
       "      <td>NaN</td>\n",
       "      <td>NaN</td>\n",
       "      <td>...</td>\n",
       "      <td>NaN</td>\n",
       "      <td>NaN</td>\n",
       "      <td>NaN</td>\n",
       "      <td>NaN</td>\n",
       "      <td>NaN</td>\n",
       "      <td>NaN</td>\n",
       "      <td>NaN</td>\n",
       "      <td>NaN</td>\n",
       "      <td>4080</td>\n",
       "      <td>0</td>\n",
       "    </tr>\n",
       "    <tr>\n",
       "      <th>189</th>\n",
       "      <td>673707060090052608</td>\n",
       "      <td>2015-12-07 03:34:14+00:00</td>\n",
       "      <td>&lt;a href=\"http://twitter.com/download/iphone\" r...</td>\n",
       "      <td>This is Raymond. He's absolutely terrified of ...</td>\n",
       "      <td>https://twitter.com/dog_rates/status/673707060...</td>\n",
       "      <td>10</td>\n",
       "      <td>raymond</td>\n",
       "      <td>pupper</td>\n",
       "      <td>https://pbs.twimg.com/media/CVl8_EPWoAAcuSC.jpg</td>\n",
       "      <td>1.0</td>\n",
       "      <td>...</td>\n",
       "      <td>0.935771</td>\n",
       "      <td>True</td>\n",
       "      <td>kelpie</td>\n",
       "      <td>0.022561</td>\n",
       "      <td>True</td>\n",
       "      <td>Labrador_retriever</td>\n",
       "      <td>0.008847</td>\n",
       "      <td>True</td>\n",
       "      <td>434</td>\n",
       "      <td>1177</td>\n",
       "    </tr>\n",
       "    <tr>\n",
       "      <th>150</th>\n",
       "      <td>689143371370250240</td>\n",
       "      <td>2016-01-18 17:52:38+00:00</td>\n",
       "      <td>&lt;a href=\"http://twitter.com/download/iphone\" r...</td>\n",
       "      <td>Meet Trip. He likes wearing costumes that aren...</td>\n",
       "      <td>https://twitter.com/dog_rates/status/689143371...</td>\n",
       "      <td>10</td>\n",
       "      <td>trip</td>\n",
       "      <td>pupper</td>\n",
       "      <td>https://pbs.twimg.com/media/CZBUO2UWsAAKehS.jpg</td>\n",
       "      <td>1.0</td>\n",
       "      <td>...</td>\n",
       "      <td>0.303781</td>\n",
       "      <td>True</td>\n",
       "      <td>papillon</td>\n",
       "      <td>0.165132</td>\n",
       "      <td>True</td>\n",
       "      <td>Welsh_springer_spaniel</td>\n",
       "      <td>0.149051</td>\n",
       "      <td>True</td>\n",
       "      <td>579</td>\n",
       "      <td>2232</td>\n",
       "    </tr>\n",
       "    <tr>\n",
       "      <th>45</th>\n",
       "      <td>750011400160841729</td>\n",
       "      <td>2016-07-04 17:00:26+00:00</td>\n",
       "      <td>&lt;a href=\"https://about.twitter.com/products/tw...</td>\n",
       "      <td>Meet Piper. She's an airport doggo. Please ret...</td>\n",
       "      <td>https://twitter.com/dog_rates/status/750011400...</td>\n",
       "      <td>11</td>\n",
       "      <td>piper</td>\n",
       "      <td>doggo</td>\n",
       "      <td>https://pbs.twimg.com/media/CmfmvGUWgAAuVKD.jpg</td>\n",
       "      <td>1.0</td>\n",
       "      <td>...</td>\n",
       "      <td>0.237620</td>\n",
       "      <td>False</td>\n",
       "      <td>Boston_bull</td>\n",
       "      <td>0.087150</td>\n",
       "      <td>True</td>\n",
       "      <td>sombrero</td>\n",
       "      <td>0.068510</td>\n",
       "      <td>False</td>\n",
       "      <td>1035</td>\n",
       "      <td>3568</td>\n",
       "    </tr>\n",
       "    <tr>\n",
       "      <th>148</th>\n",
       "      <td>689905486972461056</td>\n",
       "      <td>2016-01-20 20:21:00+00:00</td>\n",
       "      <td>&lt;a href=\"http://twitter.com/download/iphone\" r...</td>\n",
       "      <td>Say hello to Gizmo. He's quite the pupper. Con...</td>\n",
       "      <td>https://twitter.com/dog_rates/status/689905486...</td>\n",
       "      <td>11</td>\n",
       "      <td>gizmo</td>\n",
       "      <td>pupper</td>\n",
       "      <td>https://pbs.twimg.com/media/CZMJYCRVAAE35Wk.jpg</td>\n",
       "      <td>4.0</td>\n",
       "      <td>...</td>\n",
       "      <td>0.943331</td>\n",
       "      <td>True</td>\n",
       "      <td>Shetland_sheepdog</td>\n",
       "      <td>0.023675</td>\n",
       "      <td>True</td>\n",
       "      <td>chow</td>\n",
       "      <td>0.007165</td>\n",
       "      <td>True</td>\n",
       "      <td>787</td>\n",
       "      <td>2651</td>\n",
       "    </tr>\n",
       "  </tbody>\n",
       "</table>\n",
       "<p>5 rows × 21 columns</p>\n",
       "</div>"
      ],
      "text/plain": [
       "               tweet_id                 timestamp  \\\n",
       "37   777953400541634568 2016-09-19 19:31:59+00:00   \n",
       "189  673707060090052608 2015-12-07 03:34:14+00:00   \n",
       "150  689143371370250240 2016-01-18 17:52:38+00:00   \n",
       "45   750011400160841729 2016-07-04 17:00:26+00:00   \n",
       "148  689905486972461056 2016-01-20 20:21:00+00:00   \n",
       "\n",
       "                                                source  \\\n",
       "37   <a href=\"http://twitter.com/download/iphone\" r...   \n",
       "189  <a href=\"http://twitter.com/download/iphone\" r...   \n",
       "150  <a href=\"http://twitter.com/download/iphone\" r...   \n",
       "45   <a href=\"https://about.twitter.com/products/tw...   \n",
       "148  <a href=\"http://twitter.com/download/iphone\" r...   \n",
       "\n",
       "                                                  text  \\\n",
       "37   RT @dog_rates: Meet Gerald. He's a fairly exot...   \n",
       "189  This is Raymond. He's absolutely terrified of ...   \n",
       "150  Meet Trip. He likes wearing costumes that aren...   \n",
       "45   Meet Piper. She's an airport doggo. Please ret...   \n",
       "148  Say hello to Gizmo. He's quite the pupper. Con...   \n",
       "\n",
       "                                         expanded_urls  rating_(over_10)  \\\n",
       "37   https://twitter.com/dog_rates/status/768193404...                18   \n",
       "189  https://twitter.com/dog_rates/status/673707060...                10   \n",
       "150  https://twitter.com/dog_rates/status/689143371...                10   \n",
       "45   https://twitter.com/dog_rates/status/750011400...                11   \n",
       "148  https://twitter.com/dog_rates/status/689905486...                11   \n",
       "\n",
       "        name dog_stage                                          jpg_url  \\\n",
       "37    gerald     doggo                                              NaN   \n",
       "189  raymond    pupper  https://pbs.twimg.com/media/CVl8_EPWoAAcuSC.jpg   \n",
       "150     trip    pupper  https://pbs.twimg.com/media/CZBUO2UWsAAKehS.jpg   \n",
       "45     piper     doggo  https://pbs.twimg.com/media/CmfmvGUWgAAuVKD.jpg   \n",
       "148    gizmo    pupper  https://pbs.twimg.com/media/CZMJYCRVAAE35Wk.jpg   \n",
       "\n",
       "     img_num  ...   p1_conf  p1_dog                 p2   p2_conf  p2_dog  \\\n",
       "37       NaN  ...       NaN     NaN                NaN       NaN     NaN   \n",
       "189      1.0  ...  0.935771    True             kelpie  0.022561    True   \n",
       "150      1.0  ...  0.303781    True           papillon  0.165132    True   \n",
       "45       1.0  ...  0.237620   False        Boston_bull  0.087150    True   \n",
       "148      4.0  ...  0.943331    True  Shetland_sheepdog  0.023675    True   \n",
       "\n",
       "                         p3   p3_conf  p3_dog retweet_count  favorite_count  \n",
       "37                      NaN       NaN     NaN          4080               0  \n",
       "189      Labrador_retriever  0.008847    True           434            1177  \n",
       "150  Welsh_springer_spaniel  0.149051    True           579            2232  \n",
       "45                 sombrero  0.068510   False          1035            3568  \n",
       "148                    chow  0.007165    True           787            2651  \n",
       "\n",
       "[5 rows x 21 columns]"
      ]
     },
     "execution_count": 54,
     "metadata": {},
     "output_type": "execute_result"
    }
   ],
   "source": [
    "#testing\n",
    "the_final_data.sample(5)"
   ]
  },
  {
   "cell_type": "code",
   "execution_count": 55,
   "metadata": {
    "execution": {
     "iopub.execute_input": "2021-03-23T10:40:36.560517Z",
     "iopub.status.busy": "2021-03-23T10:40:36.559612Z",
     "iopub.status.idle": "2021-03-23T10:40:36.564472Z",
     "shell.execute_reply": "2021-03-23T10:40:36.563783Z"
    },
    "papermill": {
     "duration": 0.098917,
     "end_time": "2021-03-23T10:40:36.564628",
     "exception": false,
     "start_time": "2021-03-23T10:40:36.465711",
     "status": "completed"
    },
    "tags": []
   },
   "outputs": [
    {
     "name": "stdout",
     "output_type": "stream",
     "text": [
      "<class 'pandas.core.frame.DataFrame'>\n",
      "Int64Index: 226 entries, 0 to 225\n",
      "Data columns (total 21 columns):\n",
      " #   Column            Non-Null Count  Dtype              \n",
      "---  ------            --------------  -----              \n",
      " 0   tweet_id          226 non-null    object             \n",
      " 1   timestamp         226 non-null    datetime64[ns, UTC]\n",
      " 2   source            226 non-null    object             \n",
      " 3   text              226 non-null    object             \n",
      " 4   expanded_urls     226 non-null    object             \n",
      " 5   rating_(over_10)  226 non-null    int64              \n",
      " 6   name              226 non-null    object             \n",
      " 7   dog_stage         226 non-null    object             \n",
      " 8   jpg_url           171 non-null    object             \n",
      " 9   img_num           171 non-null    float64            \n",
      " 10  p1                171 non-null    object             \n",
      " 11  p1_conf           171 non-null    float64            \n",
      " 12  p1_dog            171 non-null    object             \n",
      " 13  p2                171 non-null    object             \n",
      " 14  p2_conf           171 non-null    float64            \n",
      " 15  p2_dog            171 non-null    object             \n",
      " 16  p3                171 non-null    object             \n",
      " 17  p3_conf           171 non-null    float64            \n",
      " 18  p3_dog            171 non-null    object             \n",
      " 19  retweet_count     226 non-null    int64              \n",
      " 20  favorite_count    226 non-null    int64              \n",
      "dtypes: datetime64[ns, UTC](1), float64(4), int64(3), object(13)\n",
      "memory usage: 38.8+ KB\n"
     ]
    }
   ],
   "source": [
    "the_final_data.info()"
   ]
  },
  {
   "cell_type": "markdown",
   "metadata": {
    "papermill": {
     "duration": 0.080861,
     "end_time": "2021-03-23T10:40:36.723355",
     "exception": false,
     "start_time": "2021-03-23T10:40:36.642494",
     "status": "completed"
    },
    "tags": []
   },
   "source": [
    "###### some tweet_id didn't match so some missing values just appeared ,so will drop it "
   ]
  },
  {
   "cell_type": "code",
   "execution_count": 56,
   "metadata": {
    "execution": {
     "iopub.execute_input": "2021-03-23T10:40:36.889145Z",
     "iopub.status.busy": "2021-03-23T10:40:36.888359Z",
     "iopub.status.idle": "2021-03-23T10:40:36.891587Z",
     "shell.execute_reply": "2021-03-23T10:40:36.890921Z"
    },
    "papermill": {
     "duration": 0.089946,
     "end_time": "2021-03-23T10:40:36.891747",
     "exception": false,
     "start_time": "2021-03-23T10:40:36.801801",
     "status": "completed"
    },
    "tags": []
   },
   "outputs": [],
   "source": [
    "the_final_data=the_final_data.dropna()"
   ]
  },
  {
   "cell_type": "code",
   "execution_count": 57,
   "metadata": {
    "execution": {
     "iopub.execute_input": "2021-03-23T10:40:37.056378Z",
     "iopub.status.busy": "2021-03-23T10:40:37.055227Z",
     "iopub.status.idle": "2021-03-23T10:40:37.057950Z",
     "shell.execute_reply": "2021-03-23T10:40:37.057377Z"
    },
    "papermill": {
     "duration": 0.089626,
     "end_time": "2021-03-23T10:40:37.058125",
     "exception": false,
     "start_time": "2021-03-23T10:40:36.968499",
     "status": "completed"
    },
    "tags": []
   },
   "outputs": [],
   "source": [
    "the_final_data['p1_dog']=the_final_data['p1_dog'].astype(bool)\n",
    "the_final_data['p2_dog']=the_final_data['p2_dog'].astype(bool)\n",
    "the_final_data['p3_dog']=the_final_data['p3_dog'].astype(bool)"
   ]
  },
  {
   "cell_type": "code",
   "execution_count": 58,
   "metadata": {
    "execution": {
     "iopub.execute_input": "2021-03-23T10:40:37.229750Z",
     "iopub.status.busy": "2021-03-23T10:40:37.228820Z",
     "iopub.status.idle": "2021-03-23T10:40:37.232410Z",
     "shell.execute_reply": "2021-03-23T10:40:37.233210Z"
    },
    "papermill": {
     "duration": 0.097878,
     "end_time": "2021-03-23T10:40:37.233471",
     "exception": false,
     "start_time": "2021-03-23T10:40:37.135593",
     "status": "completed"
    },
    "tags": []
   },
   "outputs": [
    {
     "name": "stdout",
     "output_type": "stream",
     "text": [
      "<class 'pandas.core.frame.DataFrame'>\n",
      "Int64Index: 171 entries, 0 to 225\n",
      "Data columns (total 21 columns):\n",
      " #   Column            Non-Null Count  Dtype              \n",
      "---  ------            --------------  -----              \n",
      " 0   tweet_id          171 non-null    object             \n",
      " 1   timestamp         171 non-null    datetime64[ns, UTC]\n",
      " 2   source            171 non-null    object             \n",
      " 3   text              171 non-null    object             \n",
      " 4   expanded_urls     171 non-null    object             \n",
      " 5   rating_(over_10)  171 non-null    int64              \n",
      " 6   name              171 non-null    object             \n",
      " 7   dog_stage         171 non-null    object             \n",
      " 8   jpg_url           171 non-null    object             \n",
      " 9   img_num           171 non-null    float64            \n",
      " 10  p1                171 non-null    object             \n",
      " 11  p1_conf           171 non-null    float64            \n",
      " 12  p1_dog            171 non-null    bool               \n",
      " 13  p2                171 non-null    object             \n",
      " 14  p2_conf           171 non-null    float64            \n",
      " 15  p2_dog            171 non-null    bool               \n",
      " 16  p3                171 non-null    object             \n",
      " 17  p3_conf           171 non-null    float64            \n",
      " 18  p3_dog            171 non-null    bool               \n",
      " 19  retweet_count     171 non-null    int64              \n",
      " 20  favorite_count    171 non-null    int64              \n",
      "dtypes: bool(3), datetime64[ns, UTC](1), float64(4), int64(3), object(10)\n",
      "memory usage: 25.9+ KB\n"
     ]
    }
   ],
   "source": [
    "#testing\n",
    "the_final_data.info()"
   ]
  },
  {
   "cell_type": "code",
   "execution_count": 59,
   "metadata": {
    "execution": {
     "iopub.execute_input": "2021-03-23T10:40:37.427595Z",
     "iopub.status.busy": "2021-03-23T10:40:37.416891Z",
     "iopub.status.idle": "2021-03-23T10:40:37.433465Z",
     "shell.execute_reply": "2021-03-23T10:40:37.432763Z"
    },
    "papermill": {
     "duration": 0.119102,
     "end_time": "2021-03-23T10:40:37.433638",
     "exception": false,
     "start_time": "2021-03-23T10:40:37.314536",
     "status": "completed"
    },
    "tags": []
   },
   "outputs": [
    {
     "data": {
      "text/html": [
       "<div>\n",
       "<style scoped>\n",
       "    .dataframe tbody tr th:only-of-type {\n",
       "        vertical-align: middle;\n",
       "    }\n",
       "\n",
       "    .dataframe tbody tr th {\n",
       "        vertical-align: top;\n",
       "    }\n",
       "\n",
       "    .dataframe thead th {\n",
       "        text-align: right;\n",
       "    }\n",
       "</style>\n",
       "<table border=\"1\" class=\"dataframe\">\n",
       "  <thead>\n",
       "    <tr style=\"text-align: right;\">\n",
       "      <th></th>\n",
       "      <th>tweet_id</th>\n",
       "      <th>timestamp</th>\n",
       "      <th>source</th>\n",
       "      <th>text</th>\n",
       "      <th>expanded_urls</th>\n",
       "      <th>rating_(over_10)</th>\n",
       "      <th>name</th>\n",
       "      <th>dog_stage</th>\n",
       "      <th>jpg_url</th>\n",
       "      <th>img_num</th>\n",
       "      <th>...</th>\n",
       "      <th>p1_conf</th>\n",
       "      <th>p1_dog</th>\n",
       "      <th>p2</th>\n",
       "      <th>p2_conf</th>\n",
       "      <th>p2_dog</th>\n",
       "      <th>p3</th>\n",
       "      <th>p3_conf</th>\n",
       "      <th>p3_dog</th>\n",
       "      <th>retweet_count</th>\n",
       "      <th>favorite_count</th>\n",
       "    </tr>\n",
       "  </thead>\n",
       "  <tbody>\n",
       "    <tr>\n",
       "      <th>27</th>\n",
       "      <td>813910438903693312</td>\n",
       "      <td>2016-12-28 00:52:25+00:00</td>\n",
       "      <td>&lt;a href=\"http://twitter.com/download/iphone\" r...</td>\n",
       "      <td>This is Chubbs. He dug a hole and now he's stu...</td>\n",
       "      <td>https://twitter.com/dog_rates/status/813910438...</td>\n",
       "      <td>11</td>\n",
       "      <td>chubbs</td>\n",
       "      <td>doggo</td>\n",
       "      <td>https://pbs.twimg.com/media/C0uXObSXUAAIzmV.jpg</td>\n",
       "      <td>1.0</td>\n",
       "      <td>...</td>\n",
       "      <td>0.699355</td>\n",
       "      <td>True</td>\n",
       "      <td>Eskimo_dog</td>\n",
       "      <td>0.256433</td>\n",
       "      <td>True</td>\n",
       "      <td>Norwegian_elkhound</td>\n",
       "      <td>0.013189</td>\n",
       "      <td>True</td>\n",
       "      <td>2194</td>\n",
       "      <td>10342</td>\n",
       "    </tr>\n",
       "    <tr>\n",
       "      <th>186</th>\n",
       "      <td>674038233588723717</td>\n",
       "      <td>2015-12-08 01:30:12+00:00</td>\n",
       "      <td>&lt;a href=\"http://twitter.com/download/iphone\" r...</td>\n",
       "      <td>This is Kaiya. She's an aspiring shoe model. 1...</td>\n",
       "      <td>https://twitter.com/dog_rates/status/674038233...</td>\n",
       "      <td>12</td>\n",
       "      <td>kaiya</td>\n",
       "      <td>pupper</td>\n",
       "      <td>https://pbs.twimg.com/media/CVqqMtiVEAEye_L.jpg</td>\n",
       "      <td>1.0</td>\n",
       "      <td>...</td>\n",
       "      <td>0.358459</td>\n",
       "      <td>True</td>\n",
       "      <td>Norwegian_elkhound</td>\n",
       "      <td>0.206963</td>\n",
       "      <td>True</td>\n",
       "      <td>malamute</td>\n",
       "      <td>0.148236</td>\n",
       "      <td>True</td>\n",
       "      <td>456</td>\n",
       "      <td>1176</td>\n",
       "    </tr>\n",
       "    <tr>\n",
       "      <th>115</th>\n",
       "      <td>735137028879360001</td>\n",
       "      <td>2016-05-24 15:55:00+00:00</td>\n",
       "      <td>&lt;a href=\"http://twitter.com/download/iphone\" r...</td>\n",
       "      <td>Meet Buckley. His family &amp;amp; some neighbors ...</td>\n",
       "      <td>https://twitter.com/dog_rates/status/735137028...</td>\n",
       "      <td>19</td>\n",
       "      <td>buckley</td>\n",
       "      <td>pupper</td>\n",
       "      <td>https://pbs.twimg.com/media/CjO7OfeWgAAUQy-.jpg</td>\n",
       "      <td>1.0</td>\n",
       "      <td>...</td>\n",
       "      <td>0.413535</td>\n",
       "      <td>True</td>\n",
       "      <td>beagle</td>\n",
       "      <td>0.233891</td>\n",
       "      <td>True</td>\n",
       "      <td>English_foxhound</td>\n",
       "      <td>0.164943</td>\n",
       "      <td>True</td>\n",
       "      <td>1092</td>\n",
       "      <td>3428</td>\n",
       "    </tr>\n",
       "    <tr>\n",
       "      <th>158</th>\n",
       "      <td>685943807276412928</td>\n",
       "      <td>2016-01-09 21:58:42+00:00</td>\n",
       "      <td>&lt;a href=\"http://twitter.com/download/iphone\" r...</td>\n",
       "      <td>This is the newly formed pupper a capella grou...</td>\n",
       "      <td>https://twitter.com/dog_rates/status/685943807...</td>\n",
       "      <td>18</td>\n",
       "      <td>the</td>\n",
       "      <td>pupper</td>\n",
       "      <td>https://pbs.twimg.com/ext_tw_video_thumb/68594...</td>\n",
       "      <td>1.0</td>\n",
       "      <td>...</td>\n",
       "      <td>0.200812</td>\n",
       "      <td>True</td>\n",
       "      <td>toy_terrier</td>\n",
       "      <td>0.114512</td>\n",
       "      <td>True</td>\n",
       "      <td>Cardigan</td>\n",
       "      <td>0.094520</td>\n",
       "      <td>True</td>\n",
       "      <td>696</td>\n",
       "      <td>1801</td>\n",
       "    </tr>\n",
       "    <tr>\n",
       "      <th>61</th>\n",
       "      <td>876838120628539392</td>\n",
       "      <td>2017-06-19 16:24:33+00:00</td>\n",
       "      <td>&lt;a href=\"http://twitter.com/download/iphone\" r...</td>\n",
       "      <td>This is Ginger. She's having a ruff Monday. To...</td>\n",
       "      <td>https://twitter.com/dog_rates/status/876838120...</td>\n",
       "      <td>12</td>\n",
       "      <td>ginger</td>\n",
       "      <td>pupper</td>\n",
       "      <td>https://pbs.twimg.com/media/DCsnnZsVwAEfkyi.jpg</td>\n",
       "      <td>1.0</td>\n",
       "      <td>...</td>\n",
       "      <td>0.575751</td>\n",
       "      <td>True</td>\n",
       "      <td>redbone</td>\n",
       "      <td>0.240970</td>\n",
       "      <td>True</td>\n",
       "      <td>Tibetan_mastiff</td>\n",
       "      <td>0.088935</td>\n",
       "      <td>True</td>\n",
       "      <td>3506</td>\n",
       "      <td>21125</td>\n",
       "    </tr>\n",
       "  </tbody>\n",
       "</table>\n",
       "<p>5 rows × 21 columns</p>\n",
       "</div>"
      ],
      "text/plain": [
       "               tweet_id                 timestamp  \\\n",
       "27   813910438903693312 2016-12-28 00:52:25+00:00   \n",
       "186  674038233588723717 2015-12-08 01:30:12+00:00   \n",
       "115  735137028879360001 2016-05-24 15:55:00+00:00   \n",
       "158  685943807276412928 2016-01-09 21:58:42+00:00   \n",
       "61   876838120628539392 2017-06-19 16:24:33+00:00   \n",
       "\n",
       "                                                source  \\\n",
       "27   <a href=\"http://twitter.com/download/iphone\" r...   \n",
       "186  <a href=\"http://twitter.com/download/iphone\" r...   \n",
       "115  <a href=\"http://twitter.com/download/iphone\" r...   \n",
       "158  <a href=\"http://twitter.com/download/iphone\" r...   \n",
       "61   <a href=\"http://twitter.com/download/iphone\" r...   \n",
       "\n",
       "                                                  text  \\\n",
       "27   This is Chubbs. He dug a hole and now he's stu...   \n",
       "186  This is Kaiya. She's an aspiring shoe model. 1...   \n",
       "115  Meet Buckley. His family &amp; some neighbors ...   \n",
       "158  This is the newly formed pupper a capella grou...   \n",
       "61   This is Ginger. She's having a ruff Monday. To...   \n",
       "\n",
       "                                         expanded_urls  rating_(over_10)  \\\n",
       "27   https://twitter.com/dog_rates/status/813910438...                11   \n",
       "186  https://twitter.com/dog_rates/status/674038233...                12   \n",
       "115  https://twitter.com/dog_rates/status/735137028...                19   \n",
       "158  https://twitter.com/dog_rates/status/685943807...                18   \n",
       "61   https://twitter.com/dog_rates/status/876838120...                12   \n",
       "\n",
       "        name dog_stage                                            jpg_url  \\\n",
       "27    chubbs     doggo    https://pbs.twimg.com/media/C0uXObSXUAAIzmV.jpg   \n",
       "186    kaiya    pupper    https://pbs.twimg.com/media/CVqqMtiVEAEye_L.jpg   \n",
       "115  buckley    pupper    https://pbs.twimg.com/media/CjO7OfeWgAAUQy-.jpg   \n",
       "158      the    pupper  https://pbs.twimg.com/ext_tw_video_thumb/68594...   \n",
       "61    ginger    pupper    https://pbs.twimg.com/media/DCsnnZsVwAEfkyi.jpg   \n",
       "\n",
       "     img_num  ...   p1_conf  p1_dog                  p2   p2_conf  p2_dog  \\\n",
       "27       1.0  ...  0.699355    True          Eskimo_dog  0.256433    True   \n",
       "186      1.0  ...  0.358459    True  Norwegian_elkhound  0.206963    True   \n",
       "115      1.0  ...  0.413535    True              beagle  0.233891    True   \n",
       "158      1.0  ...  0.200812    True         toy_terrier  0.114512    True   \n",
       "61       1.0  ...  0.575751    True             redbone  0.240970    True   \n",
       "\n",
       "                     p3   p3_conf  p3_dog  retweet_count  favorite_count  \n",
       "27   Norwegian_elkhound  0.013189    True           2194           10342  \n",
       "186            malamute  0.148236    True            456            1176  \n",
       "115    English_foxhound  0.164943    True           1092            3428  \n",
       "158            Cardigan  0.094520    True            696            1801  \n",
       "61      Tibetan_mastiff  0.088935    True           3506           21125  \n",
       "\n",
       "[5 rows x 21 columns]"
      ]
     },
     "execution_count": 59,
     "metadata": {},
     "output_type": "execute_result"
    }
   ],
   "source": [
    "the_final_data.sample(5)"
   ]
  },
  {
   "cell_type": "markdown",
   "metadata": {
    "papermill": {
     "duration": 0.077707,
     "end_time": "2021-03-23T10:40:37.590139",
     "exception": false,
     "start_time": "2021-03-23T10:40:37.512432",
     "status": "completed"
    },
    "tags": []
   },
   "source": [
    "#### now changing the row index to a numbers from 1 to 171"
   ]
  },
  {
   "cell_type": "code",
   "execution_count": 60,
   "metadata": {
    "execution": {
     "iopub.execute_input": "2021-03-23T10:40:37.752897Z",
     "iopub.status.busy": "2021-03-23T10:40:37.752212Z",
     "iopub.status.idle": "2021-03-23T10:40:37.756085Z",
     "shell.execute_reply": "2021-03-23T10:40:37.755430Z"
    },
    "papermill": {
     "duration": 0.087339,
     "end_time": "2021-03-23T10:40:37.756231",
     "exception": false,
     "start_time": "2021-03-23T10:40:37.668892",
     "status": "completed"
    },
    "tags": []
   },
   "outputs": [],
   "source": [
    "row_index=np.arange(1,172)"
   ]
  },
  {
   "cell_type": "code",
   "execution_count": 61,
   "metadata": {
    "execution": {
     "iopub.execute_input": "2021-03-23T10:40:37.921675Z",
     "iopub.status.busy": "2021-03-23T10:40:37.920963Z",
     "iopub.status.idle": "2021-03-23T10:40:37.924869Z",
     "shell.execute_reply": "2021-03-23T10:40:37.924296Z"
    },
    "papermill": {
     "duration": 0.090047,
     "end_time": "2021-03-23T10:40:37.925019",
     "exception": false,
     "start_time": "2021-03-23T10:40:37.834972",
     "status": "completed"
    },
    "tags": []
   },
   "outputs": [],
   "source": [
    "the_final_data.index=row_index"
   ]
  },
  {
   "cell_type": "markdown",
   "metadata": {
    "papermill": {
     "duration": 0.079027,
     "end_time": "2021-03-23T10:40:38.083774",
     "exception": false,
     "start_time": "2021-03-23T10:40:38.004747",
     "status": "completed"
    },
    "tags": []
   },
   "source": [
    "## last check"
   ]
  },
  {
   "cell_type": "code",
   "execution_count": 62,
   "metadata": {
    "execution": {
     "iopub.execute_input": "2021-03-23T10:40:38.252866Z",
     "iopub.status.busy": "2021-03-23T10:40:38.252106Z",
     "iopub.status.idle": "2021-03-23T10:40:38.279118Z",
     "shell.execute_reply": "2021-03-23T10:40:38.279748Z"
    },
    "papermill": {
     "duration": 0.117443,
     "end_time": "2021-03-23T10:40:38.279979",
     "exception": false,
     "start_time": "2021-03-23T10:40:38.162536",
     "status": "completed"
    },
    "tags": []
   },
   "outputs": [
    {
     "data": {
      "text/html": [
       "<div>\n",
       "<style scoped>\n",
       "    .dataframe tbody tr th:only-of-type {\n",
       "        vertical-align: middle;\n",
       "    }\n",
       "\n",
       "    .dataframe tbody tr th {\n",
       "        vertical-align: top;\n",
       "    }\n",
       "\n",
       "    .dataframe thead th {\n",
       "        text-align: right;\n",
       "    }\n",
       "</style>\n",
       "<table border=\"1\" class=\"dataframe\">\n",
       "  <thead>\n",
       "    <tr style=\"text-align: right;\">\n",
       "      <th></th>\n",
       "      <th>tweet_id</th>\n",
       "      <th>timestamp</th>\n",
       "      <th>source</th>\n",
       "      <th>text</th>\n",
       "      <th>expanded_urls</th>\n",
       "      <th>rating_(over_10)</th>\n",
       "      <th>name</th>\n",
       "      <th>dog_stage</th>\n",
       "      <th>jpg_url</th>\n",
       "      <th>img_num</th>\n",
       "      <th>...</th>\n",
       "      <th>p1_conf</th>\n",
       "      <th>p1_dog</th>\n",
       "      <th>p2</th>\n",
       "      <th>p2_conf</th>\n",
       "      <th>p2_dog</th>\n",
       "      <th>p3</th>\n",
       "      <th>p3_conf</th>\n",
       "      <th>p3_dog</th>\n",
       "      <th>retweet_count</th>\n",
       "      <th>favorite_count</th>\n",
       "    </tr>\n",
       "  </thead>\n",
       "  <tbody>\n",
       "    <tr>\n",
       "      <th>1</th>\n",
       "      <td>890240255349198849</td>\n",
       "      <td>2017-07-26 15:59:51+00:00</td>\n",
       "      <td>&lt;a href=\"http://twitter.com/download/iphone\" r...</td>\n",
       "      <td>This is Cassie. She is a college pup. Studying...</td>\n",
       "      <td>https://twitter.com/dog_rates/status/890240255...</td>\n",
       "      <td>14</td>\n",
       "      <td>cassie</td>\n",
       "      <td>doggo</td>\n",
       "      <td>https://pbs.twimg.com/media/DFrEyVuW0AAO3t9.jpg</td>\n",
       "      <td>1.0</td>\n",
       "      <td>...</td>\n",
       "      <td>0.511319</td>\n",
       "      <td>True</td>\n",
       "      <td>Cardigan</td>\n",
       "      <td>0.451038</td>\n",
       "      <td>True</td>\n",
       "      <td>Chihuahua</td>\n",
       "      <td>0.029248</td>\n",
       "      <td>True</td>\n",
       "      <td>7711</td>\n",
       "      <td>32467</td>\n",
       "    </tr>\n",
       "    <tr>\n",
       "      <th>2</th>\n",
       "      <td>884162670584377345</td>\n",
       "      <td>2017-07-09 21:29:42+00:00</td>\n",
       "      <td>&lt;a href=\"http://twitter.com/download/iphone\" r...</td>\n",
       "      <td>Meet Yogi. He doesn't have any important dog m...</td>\n",
       "      <td>https://twitter.com/dog_rates/status/884162670...</td>\n",
       "      <td>12</td>\n",
       "      <td>yogi</td>\n",
       "      <td>doggo</td>\n",
       "      <td>https://pbs.twimg.com/media/DEUtQbzW0AUTv_o.jpg</td>\n",
       "      <td>1.0</td>\n",
       "      <td>...</td>\n",
       "      <td>0.707046</td>\n",
       "      <td>True</td>\n",
       "      <td>malinois</td>\n",
       "      <td>0.199396</td>\n",
       "      <td>True</td>\n",
       "      <td>Norwegian_elkhound</td>\n",
       "      <td>0.049148</td>\n",
       "      <td>True</td>\n",
       "      <td>3128</td>\n",
       "      <td>20771</td>\n",
       "    </tr>\n",
       "    <tr>\n",
       "      <th>3</th>\n",
       "      <td>871515927908634625</td>\n",
       "      <td>2017-06-04 23:56:03+00:00</td>\n",
       "      <td>&lt;a href=\"http://twitter.com/download/iphone\" r...</td>\n",
       "      <td>This is Napolean. He's a Raggedy East Nicaragu...</td>\n",
       "      <td>https://twitter.com/dog_rates/status/871515927...</td>\n",
       "      <td>12</td>\n",
       "      <td>napolean</td>\n",
       "      <td>doggo</td>\n",
       "      <td>https://pbs.twimg.com/media/DBg_HT9WAAEeIMM.jpg</td>\n",
       "      <td>2.0</td>\n",
       "      <td>...</td>\n",
       "      <td>0.974781</td>\n",
       "      <td>True</td>\n",
       "      <td>briard</td>\n",
       "      <td>0.020041</td>\n",
       "      <td>True</td>\n",
       "      <td>swab</td>\n",
       "      <td>0.003228</td>\n",
       "      <td>False</td>\n",
       "      <td>3628</td>\n",
       "      <td>20730</td>\n",
       "    </tr>\n",
       "    <tr>\n",
       "      <th>4</th>\n",
       "      <td>869596645499047938</td>\n",
       "      <td>2017-05-30 16:49:31+00:00</td>\n",
       "      <td>&lt;a href=\"http://twitter.com/download/iphone\" r...</td>\n",
       "      <td>This is Scout. He just graduated. Officially a...</td>\n",
       "      <td>https://twitter.com/dog_rates/status/869596645...</td>\n",
       "      <td>12</td>\n",
       "      <td>scout</td>\n",
       "      <td>doggo</td>\n",
       "      <td>https://pbs.twimg.com/media/DBFtiYqWAAAsjj1.jpg</td>\n",
       "      <td>1.0</td>\n",
       "      <td>...</td>\n",
       "      <td>0.955156</td>\n",
       "      <td>True</td>\n",
       "      <td>toy_terrier</td>\n",
       "      <td>0.008054</td>\n",
       "      <td>True</td>\n",
       "      <td>muzzle</td>\n",
       "      <td>0.006296</td>\n",
       "      <td>False</td>\n",
       "      <td>3327</td>\n",
       "      <td>16476</td>\n",
       "    </tr>\n",
       "    <tr>\n",
       "      <th>5</th>\n",
       "      <td>851953902622658560</td>\n",
       "      <td>2017-04-12 00:23:33+00:00</td>\n",
       "      <td>&lt;a href=\"http://twitter.com/download/iphone\" r...</td>\n",
       "      <td>RT @dog_rates: This is Astrid. She's a guide d...</td>\n",
       "      <td>https://twitter.com/dog_rates/status/829374341...</td>\n",
       "      <td>13</td>\n",
       "      <td>astrid</td>\n",
       "      <td>doggo</td>\n",
       "      <td>https://pbs.twimg.com/media/C4KHj-nWQAA3poV.jpg</td>\n",
       "      <td>1.0</td>\n",
       "      <td>...</td>\n",
       "      <td>0.757547</td>\n",
       "      <td>True</td>\n",
       "      <td>American_Staffordshire_terrier</td>\n",
       "      <td>0.149950</td>\n",
       "      <td>True</td>\n",
       "      <td>Chesapeake_Bay_retriever</td>\n",
       "      <td>0.047523</td>\n",
       "      <td>True</td>\n",
       "      <td>10706</td>\n",
       "      <td>0</td>\n",
       "    </tr>\n",
       "  </tbody>\n",
       "</table>\n",
       "<p>5 rows × 21 columns</p>\n",
       "</div>"
      ],
      "text/plain": [
       "             tweet_id                 timestamp  \\\n",
       "1  890240255349198849 2017-07-26 15:59:51+00:00   \n",
       "2  884162670584377345 2017-07-09 21:29:42+00:00   \n",
       "3  871515927908634625 2017-06-04 23:56:03+00:00   \n",
       "4  869596645499047938 2017-05-30 16:49:31+00:00   \n",
       "5  851953902622658560 2017-04-12 00:23:33+00:00   \n",
       "\n",
       "                                              source  \\\n",
       "1  <a href=\"http://twitter.com/download/iphone\" r...   \n",
       "2  <a href=\"http://twitter.com/download/iphone\" r...   \n",
       "3  <a href=\"http://twitter.com/download/iphone\" r...   \n",
       "4  <a href=\"http://twitter.com/download/iphone\" r...   \n",
       "5  <a href=\"http://twitter.com/download/iphone\" r...   \n",
       "\n",
       "                                                text  \\\n",
       "1  This is Cassie. She is a college pup. Studying...   \n",
       "2  Meet Yogi. He doesn't have any important dog m...   \n",
       "3  This is Napolean. He's a Raggedy East Nicaragu...   \n",
       "4  This is Scout. He just graduated. Officially a...   \n",
       "5  RT @dog_rates: This is Astrid. She's a guide d...   \n",
       "\n",
       "                                       expanded_urls  rating_(over_10)  \\\n",
       "1  https://twitter.com/dog_rates/status/890240255...                14   \n",
       "2  https://twitter.com/dog_rates/status/884162670...                12   \n",
       "3  https://twitter.com/dog_rates/status/871515927...                12   \n",
       "4  https://twitter.com/dog_rates/status/869596645...                12   \n",
       "5  https://twitter.com/dog_rates/status/829374341...                13   \n",
       "\n",
       "       name dog_stage                                          jpg_url  \\\n",
       "1    cassie     doggo  https://pbs.twimg.com/media/DFrEyVuW0AAO3t9.jpg   \n",
       "2      yogi     doggo  https://pbs.twimg.com/media/DEUtQbzW0AUTv_o.jpg   \n",
       "3  napolean     doggo  https://pbs.twimg.com/media/DBg_HT9WAAEeIMM.jpg   \n",
       "4     scout     doggo  https://pbs.twimg.com/media/DBFtiYqWAAAsjj1.jpg   \n",
       "5    astrid     doggo  https://pbs.twimg.com/media/C4KHj-nWQAA3poV.jpg   \n",
       "\n",
       "   img_num  ...   p1_conf  p1_dog                              p2   p2_conf  \\\n",
       "1      1.0  ...  0.511319    True                        Cardigan  0.451038   \n",
       "2      1.0  ...  0.707046    True                        malinois  0.199396   \n",
       "3      2.0  ...  0.974781    True                          briard  0.020041   \n",
       "4      1.0  ...  0.955156    True                     toy_terrier  0.008054   \n",
       "5      1.0  ...  0.757547    True  American_Staffordshire_terrier  0.149950   \n",
       "\n",
       "   p2_dog                        p3   p3_conf  p3_dog  retweet_count  \\\n",
       "1    True                 Chihuahua  0.029248    True           7711   \n",
       "2    True        Norwegian_elkhound  0.049148    True           3128   \n",
       "3    True                      swab  0.003228   False           3628   \n",
       "4    True                    muzzle  0.006296   False           3327   \n",
       "5    True  Chesapeake_Bay_retriever  0.047523    True          10706   \n",
       "\n",
       "   favorite_count  \n",
       "1           32467  \n",
       "2           20771  \n",
       "3           20730  \n",
       "4           16476  \n",
       "5               0  \n",
       "\n",
       "[5 rows x 21 columns]"
      ]
     },
     "execution_count": 62,
     "metadata": {},
     "output_type": "execute_result"
    }
   ],
   "source": [
    "the_final_data.head()"
   ]
  },
  {
   "cell_type": "code",
   "execution_count": 63,
   "metadata": {
    "execution": {
     "iopub.execute_input": "2021-03-23T10:40:38.445875Z",
     "iopub.status.busy": "2021-03-23T10:40:38.445227Z",
     "iopub.status.idle": "2021-03-23T10:40:38.475518Z",
     "shell.execute_reply": "2021-03-23T10:40:38.475967Z"
    },
    "papermill": {
     "duration": 0.113231,
     "end_time": "2021-03-23T10:40:38.476231",
     "exception": false,
     "start_time": "2021-03-23T10:40:38.363000",
     "status": "completed"
    },
    "tags": []
   },
   "outputs": [
    {
     "data": {
      "text/html": [
       "<div>\n",
       "<style scoped>\n",
       "    .dataframe tbody tr th:only-of-type {\n",
       "        vertical-align: middle;\n",
       "    }\n",
       "\n",
       "    .dataframe tbody tr th {\n",
       "        vertical-align: top;\n",
       "    }\n",
       "\n",
       "    .dataframe thead th {\n",
       "        text-align: right;\n",
       "    }\n",
       "</style>\n",
       "<table border=\"1\" class=\"dataframe\">\n",
       "  <thead>\n",
       "    <tr style=\"text-align: right;\">\n",
       "      <th></th>\n",
       "      <th>tweet_id</th>\n",
       "      <th>timestamp</th>\n",
       "      <th>source</th>\n",
       "      <th>text</th>\n",
       "      <th>expanded_urls</th>\n",
       "      <th>rating_(over_10)</th>\n",
       "      <th>name</th>\n",
       "      <th>dog_stage</th>\n",
       "      <th>jpg_url</th>\n",
       "      <th>img_num</th>\n",
       "      <th>...</th>\n",
       "      <th>p1_conf</th>\n",
       "      <th>p1_dog</th>\n",
       "      <th>p2</th>\n",
       "      <th>p2_conf</th>\n",
       "      <th>p2_dog</th>\n",
       "      <th>p3</th>\n",
       "      <th>p3_conf</th>\n",
       "      <th>p3_dog</th>\n",
       "      <th>retweet_count</th>\n",
       "      <th>favorite_count</th>\n",
       "    </tr>\n",
       "  </thead>\n",
       "  <tbody>\n",
       "    <tr>\n",
       "      <th>167</th>\n",
       "      <td>787717603741622272</td>\n",
       "      <td>2016-10-16 18:11:26+00:00</td>\n",
       "      <td>&lt;a href=\"http://twitter.com/download/iphone\" r...</td>\n",
       "      <td>This is Tonks. She is a service puppo. Can hea...</td>\n",
       "      <td>https://twitter.com/dog_rates/status/787717603...</td>\n",
       "      <td>13</td>\n",
       "      <td>tonks</td>\n",
       "      <td>puppo</td>\n",
       "      <td>https://pbs.twimg.com/media/Cu6I9vvWIAAZG0a.jpg</td>\n",
       "      <td>3.0</td>\n",
       "      <td>...</td>\n",
       "      <td>0.992339</td>\n",
       "      <td>True</td>\n",
       "      <td>malinois</td>\n",
       "      <td>0.004920</td>\n",
       "      <td>True</td>\n",
       "      <td>kelpie</td>\n",
       "      <td>0.000853</td>\n",
       "      <td>True</td>\n",
       "      <td>3240</td>\n",
       "      <td>11416</td>\n",
       "    </tr>\n",
       "    <tr>\n",
       "      <th>168</th>\n",
       "      <td>751132876104687617</td>\n",
       "      <td>2016-07-07 19:16:47+00:00</td>\n",
       "      <td>&lt;a href=\"http://twitter.com/download/iphone\" r...</td>\n",
       "      <td>This is Cooper. He's just so damn happy. 10/10...</td>\n",
       "      <td>https://twitter.com/dog_rates/status/751132876...</td>\n",
       "      <td>10</td>\n",
       "      <td>cooper</td>\n",
       "      <td>puppo</td>\n",
       "      <td>https://pbs.twimg.com/media/CmyPXNOW8AEtaJ-.jpg</td>\n",
       "      <td>1.0</td>\n",
       "      <td>...</td>\n",
       "      <td>0.929390</td>\n",
       "      <td>True</td>\n",
       "      <td>Chesapeake_Bay_retriever</td>\n",
       "      <td>0.038254</td>\n",
       "      <td>True</td>\n",
       "      <td>golden_retriever</td>\n",
       "      <td>0.007610</td>\n",
       "      <td>True</td>\n",
       "      <td>1480</td>\n",
       "      <td>5610</td>\n",
       "    </tr>\n",
       "    <tr>\n",
       "      <th>169</th>\n",
       "      <td>744995568523612160</td>\n",
       "      <td>2016-06-20 20:49:19+00:00</td>\n",
       "      <td>&lt;a href=\"http://twitter.com/download/iphone\" r...</td>\n",
       "      <td>This is Abby. She got her face stuck in a glas...</td>\n",
       "      <td>https://twitter.com/dog_rates/status/744995568...</td>\n",
       "      <td>19</td>\n",
       "      <td>abby</td>\n",
       "      <td>puppo</td>\n",
       "      <td>https://pbs.twimg.com/media/ClbBg4WWEAMjwJu.jpg</td>\n",
       "      <td>1.0</td>\n",
       "      <td>...</td>\n",
       "      <td>0.427481</td>\n",
       "      <td>True</td>\n",
       "      <td>Shih-Tzu</td>\n",
       "      <td>0.146336</td>\n",
       "      <td>True</td>\n",
       "      <td>Tibetan_terrier</td>\n",
       "      <td>0.134269</td>\n",
       "      <td>True</td>\n",
       "      <td>716</td>\n",
       "      <td>3277</td>\n",
       "    </tr>\n",
       "    <tr>\n",
       "      <th>170</th>\n",
       "      <td>743253157753532416</td>\n",
       "      <td>2016-06-16 01:25:36+00:00</td>\n",
       "      <td>&lt;a href=\"http://twitter.com/download/iphone\" r...</td>\n",
       "      <td>This is Kilo. He cannot reach the snackum. Nif...</td>\n",
       "      <td>https://twitter.com/dog_rates/status/743253157...</td>\n",
       "      <td>10</td>\n",
       "      <td>kilo</td>\n",
       "      <td>puppo</td>\n",
       "      <td>https://pbs.twimg.com/media/ClCQzFUUYAA5vAu.jpg</td>\n",
       "      <td>1.0</td>\n",
       "      <td>...</td>\n",
       "      <td>0.442612</td>\n",
       "      <td>True</td>\n",
       "      <td>Siberian_husky</td>\n",
       "      <td>0.368137</td>\n",
       "      <td>True</td>\n",
       "      <td>Eskimo_dog</td>\n",
       "      <td>0.177822</td>\n",
       "      <td>True</td>\n",
       "      <td>1366</td>\n",
       "      <td>4624</td>\n",
       "    </tr>\n",
       "    <tr>\n",
       "      <th>171</th>\n",
       "      <td>738537504001953792</td>\n",
       "      <td>2016-06-03 01:07:16+00:00</td>\n",
       "      <td>&lt;a href=\"http://twitter.com/download/iphone\" r...</td>\n",
       "      <td>This is Bayley. She fell asleep trying to esca...</td>\n",
       "      <td>https://twitter.com/dog_rates/status/738537504...</td>\n",
       "      <td>11</td>\n",
       "      <td>bayley</td>\n",
       "      <td>puppo</td>\n",
       "      <td>https://pbs.twimg.com/media/Cj_P7rSUgAAYQbz.jpg</td>\n",
       "      <td>1.0</td>\n",
       "      <td>...</td>\n",
       "      <td>0.808737</td>\n",
       "      <td>True</td>\n",
       "      <td>gibbon</td>\n",
       "      <td>0.028942</td>\n",
       "      <td>False</td>\n",
       "      <td>Pembroke</td>\n",
       "      <td>0.026498</td>\n",
       "      <td>True</td>\n",
       "      <td>1759</td>\n",
       "      <td>5575</td>\n",
       "    </tr>\n",
       "  </tbody>\n",
       "</table>\n",
       "<p>5 rows × 21 columns</p>\n",
       "</div>"
      ],
      "text/plain": [
       "               tweet_id                 timestamp  \\\n",
       "167  787717603741622272 2016-10-16 18:11:26+00:00   \n",
       "168  751132876104687617 2016-07-07 19:16:47+00:00   \n",
       "169  744995568523612160 2016-06-20 20:49:19+00:00   \n",
       "170  743253157753532416 2016-06-16 01:25:36+00:00   \n",
       "171  738537504001953792 2016-06-03 01:07:16+00:00   \n",
       "\n",
       "                                                source  \\\n",
       "167  <a href=\"http://twitter.com/download/iphone\" r...   \n",
       "168  <a href=\"http://twitter.com/download/iphone\" r...   \n",
       "169  <a href=\"http://twitter.com/download/iphone\" r...   \n",
       "170  <a href=\"http://twitter.com/download/iphone\" r...   \n",
       "171  <a href=\"http://twitter.com/download/iphone\" r...   \n",
       "\n",
       "                                                  text  \\\n",
       "167  This is Tonks. She is a service puppo. Can hea...   \n",
       "168  This is Cooper. He's just so damn happy. 10/10...   \n",
       "169  This is Abby. She got her face stuck in a glas...   \n",
       "170  This is Kilo. He cannot reach the snackum. Nif...   \n",
       "171  This is Bayley. She fell asleep trying to esca...   \n",
       "\n",
       "                                         expanded_urls  rating_(over_10)  \\\n",
       "167  https://twitter.com/dog_rates/status/787717603...                13   \n",
       "168  https://twitter.com/dog_rates/status/751132876...                10   \n",
       "169  https://twitter.com/dog_rates/status/744995568...                19   \n",
       "170  https://twitter.com/dog_rates/status/743253157...                10   \n",
       "171  https://twitter.com/dog_rates/status/738537504...                11   \n",
       "\n",
       "       name dog_stage                                          jpg_url  \\\n",
       "167   tonks     puppo  https://pbs.twimg.com/media/Cu6I9vvWIAAZG0a.jpg   \n",
       "168  cooper     puppo  https://pbs.twimg.com/media/CmyPXNOW8AEtaJ-.jpg   \n",
       "169    abby     puppo  https://pbs.twimg.com/media/ClbBg4WWEAMjwJu.jpg   \n",
       "170    kilo     puppo  https://pbs.twimg.com/media/ClCQzFUUYAA5vAu.jpg   \n",
       "171  bayley     puppo  https://pbs.twimg.com/media/Cj_P7rSUgAAYQbz.jpg   \n",
       "\n",
       "     img_num  ...   p1_conf  p1_dog                        p2   p2_conf  \\\n",
       "167      3.0  ...  0.992339    True                  malinois  0.004920   \n",
       "168      1.0  ...  0.929390    True  Chesapeake_Bay_retriever  0.038254   \n",
       "169      1.0  ...  0.427481    True                  Shih-Tzu  0.146336   \n",
       "170      1.0  ...  0.442612    True            Siberian_husky  0.368137   \n",
       "171      1.0  ...  0.808737    True                    gibbon  0.028942   \n",
       "\n",
       "     p2_dog                p3   p3_conf  p3_dog  retweet_count  favorite_count  \n",
       "167    True            kelpie  0.000853    True           3240           11416  \n",
       "168    True  golden_retriever  0.007610    True           1480            5610  \n",
       "169    True   Tibetan_terrier  0.134269    True            716            3277  \n",
       "170    True        Eskimo_dog  0.177822    True           1366            4624  \n",
       "171   False          Pembroke  0.026498    True           1759            5575  \n",
       "\n",
       "[5 rows x 21 columns]"
      ]
     },
     "execution_count": 63,
     "metadata": {},
     "output_type": "execute_result"
    }
   ],
   "source": [
    "the_final_data.tail()"
   ]
  },
  {
   "cell_type": "markdown",
   "metadata": {
    "papermill": {
     "duration": 0.080601,
     "end_time": "2021-03-23T10:40:38.638244",
     "exception": false,
     "start_time": "2021-03-23T10:40:38.557643",
     "status": "completed"
    },
    "tags": []
   },
   "source": [
    "#### nice&clean DataFrame :) "
   ]
  },
  {
   "cell_type": "markdown",
   "metadata": {
    "papermill": {
     "duration": 0.080673,
     "end_time": "2021-03-23T10:40:38.802757",
     "exception": false,
     "start_time": "2021-03-23T10:40:38.722084",
     "status": "completed"
    },
    "tags": []
   },
   "source": [
    "#### now turning it into a csv file"
   ]
  },
  {
   "cell_type": "code",
   "execution_count": 64,
   "metadata": {
    "execution": {
     "iopub.execute_input": "2021-03-23T10:40:38.970609Z",
     "iopub.status.busy": "2021-03-23T10:40:38.969848Z",
     "iopub.status.idle": "2021-03-23T10:40:38.987326Z",
     "shell.execute_reply": "2021-03-23T10:40:38.985617Z"
    },
    "papermill": {
     "duration": 0.10259,
     "end_time": "2021-03-23T10:40:38.987512",
     "exception": false,
     "start_time": "2021-03-23T10:40:38.884922",
     "status": "completed"
    },
    "tags": []
   },
   "outputs": [],
   "source": [
    "the_final_data.to_csv(r'C:\\Users\\Hello\\OneDrive - Alexandria University\\Desktop\\the_final_data.csv', index = False)"
   ]
  },
  {
   "cell_type": "markdown",
   "metadata": {
    "papermill": {
     "duration": 0.08229,
     "end_time": "2021-03-23T10:40:39.151832",
     "exception": false,
     "start_time": "2021-03-23T10:40:39.069542",
     "status": "completed"
    },
    "tags": []
   },
   "source": [
    "# visualization"
   ]
  },
  {
   "cell_type": "markdown",
   "metadata": {
    "papermill": {
     "duration": 0.080311,
     "end_time": "2021-03-23T10:40:39.314462",
     "exception": false,
     "start_time": "2021-03-23T10:40:39.234151",
     "status": "completed"
    },
    "tags": []
   },
   "source": [
    "###### percantage of dog stages"
   ]
  },
  {
   "cell_type": "code",
   "execution_count": 65,
   "metadata": {
    "execution": {
     "iopub.execute_input": "2021-03-23T10:40:39.485766Z",
     "iopub.status.busy": "2021-03-23T10:40:39.485020Z",
     "iopub.status.idle": "2021-03-23T10:40:39.488623Z",
     "shell.execute_reply": "2021-03-23T10:40:39.488001Z"
    },
    "papermill": {
     "duration": 0.092885,
     "end_time": "2021-03-23T10:40:39.488772",
     "exception": false,
     "start_time": "2021-03-23T10:40:39.395887",
     "status": "completed"
    },
    "tags": []
   },
   "outputs": [],
   "source": [
    "x=the_final_data['dog_stage'].value_counts()"
   ]
  },
  {
   "cell_type": "code",
   "execution_count": 66,
   "metadata": {
    "execution": {
     "iopub.execute_input": "2021-03-23T10:40:39.654285Z",
     "iopub.status.busy": "2021-03-23T10:40:39.653517Z",
     "iopub.status.idle": "2021-03-23T10:40:39.819232Z",
     "shell.execute_reply": "2021-03-23T10:40:39.818514Z"
    },
    "papermill": {
     "duration": 0.249108,
     "end_time": "2021-03-23T10:40:39.819389",
     "exception": false,
     "start_time": "2021-03-23T10:40:39.570281",
     "status": "completed"
    },
    "tags": []
   },
   "outputs": [
    {
     "data": {
      "image/png": "[encoded data removed]",
      "text/plain": [
       "<Figure size 432x288 with 1 Axes>"
      ]
     },
     "metadata": {},
     "output_type": "display_data"
    }
   ],
   "source": [
    "plt.pie(x,labels=['pupper','doggo','puppo','floofer'],shadow=True,explode=(.1,.2,.2,.3),autopct='%1.1f%%')\n",
    "plt.show()"
   ]
  },
  {
   "cell_type": "markdown",
   "metadata": {
    "papermill": {
     "duration": 0.081946,
     "end_time": "2021-03-23T10:40:39.983423",
     "exception": false,
     "start_time": "2021-03-23T10:40:39.901477",
     "status": "completed"
    },
    "tags": []
   },
   "source": [
    "#### so..\n",
    "    -pupper is the biggest percentage\n",
    "    -floofer is the lowest"
   ]
  },
  {
   "cell_type": "code",
   "execution_count": 67,
   "metadata": {
    "execution": {
     "iopub.execute_input": "2021-03-23T10:40:40.184279Z",
     "iopub.status.busy": "2021-03-23T10:40:40.182693Z",
     "iopub.status.idle": "2021-03-23T10:40:40.309776Z",
     "shell.execute_reply": "2021-03-23T10:40:40.309121Z"
    },
    "papermill": {
     "duration": 0.237987,
     "end_time": "2021-03-23T10:40:40.309922",
     "exception": false,
     "start_time": "2021-03-23T10:40:40.071935",
     "status": "completed"
    },
    "tags": []
   },
   "outputs": [
    {
     "data": {
      "image/png": "[encoded data removed]",
      "text/plain": [
       "<Figure size 432x288 with 1 Axes>"
      ]
     },
     "metadata": {
      "needs_background": "light"
     },
     "output_type": "display_data"
    }
   ],
   "source": [
    "plt.scatter(the_final_data.retweet_count,the_final_data.favorite_count)\n",
    "plt.show()"
   ]
  },
  {
   "cell_type": "markdown",
   "metadata": {
    "papermill": {
     "duration": 0.082459,
     "end_time": "2021-03-23T10:40:40.475463",
     "exception": false,
     "start_time": "2021-03-23T10:40:40.393004",
     "status": "completed"
    },
    "tags": []
   },
   "source": [
    "#### -there is a positive correlation between retweet count and favorate count"
   ]
  },
  {
   "cell_type": "code",
   "execution_count": 68,
   "metadata": {
    "execution": {
     "iopub.execute_input": "2021-03-23T10:40:40.708795Z",
     "iopub.status.busy": "2021-03-23T10:40:40.678253Z",
     "iopub.status.idle": "2021-03-23T10:40:40.825690Z",
     "shell.execute_reply": "2021-03-23T10:40:40.824842Z"
    },
    "papermill": {
     "duration": 0.264971,
     "end_time": "2021-03-23T10:40:40.825855",
     "exception": false,
     "start_time": "2021-03-23T10:40:40.560884",
     "status": "completed"
    },
    "tags": []
   },
   "outputs": [
    {
     "data": {
      "image/png": "[encoded data removed]",
      "text/plain": [
       "<Figure size 432x288 with 1 Axes>"
      ]
     },
     "metadata": {
      "needs_background": "light"
     },
     "output_type": "display_data"
    }
   ],
   "source": [
    "plt.scatter(the_final_data.favorite_count,the_final_data['rating_(over_10)'])\n",
    "plt.show()"
   ]
  },
  {
   "cell_type": "markdown",
   "metadata": {
    "papermill": {
     "duration": 0.08836,
     "end_time": "2021-03-23T10:40:40.998327",
     "exception": false,
     "start_time": "2021-03-23T10:40:40.909967",
     "status": "completed"
    },
    "tags": []
   },
   "source": [
    " "
   ]
  },
  {
   "cell_type": "code",
   "execution_count": null,
   "metadata": {
    "papermill": {
     "duration": 0.086162,
     "end_time": "2021-03-23T10:40:41.171683",
     "exception": false,
     "start_time": "2021-03-23T10:40:41.085521",
     "status": "completed"
    },
    "tags": []
   },
   "outputs": [],
   "source": []
  }
 ],
 "metadata": {
  "kernelspec": {
   "display_name": "Python 3 (ipykernel)",
   "language": "python",
   "name": "python3"
  },
  "language_info": {
   "codemirror_mode": {
    "name": "ipython",
    "version": 3
   },
   "file_extension": ".py",
   "mimetype": "text/x-python",
   "name": "python",
   "nbconvert_exporter": "python",
   "pygments_lexer": "ipython3",
   "version": "3.9.12"
  },
  "papermill": {
   "default_parameters": {},
   "duration": 27.926088,
   "end_time": "2021-03-23T10:40:41.968439",
   "environment_variables": {},
   "exception": null,
   "input_path": "__notebook__.ipynb",
   "output_path": "__notebook__.ipynb",
   "parameters": {},
   "start_time": "2021-03-23T10:40:14.042351",
   "version": "2.2.2"
  }
 },
 "nbformat": 4,
 "nbformat_minor": 4
}
